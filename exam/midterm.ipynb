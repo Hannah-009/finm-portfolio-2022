{
 "cells": [
  {
   "cell_type": "code",
   "execution_count": 1,
   "metadata": {},
   "outputs": [],
   "source": [
    "import pandas as pd\n",
    "import numpy as np\n",
    "import matplotlib.pyplot as plt\n",
    "import statsmodels.api as sm\n",
    "from arch import arch_model\n",
    "from arch.univariate import GARCH, EWMAVariance\n",
    "from sklearn import linear_model\n",
    "import scipy\n",
    "import scipy.stats as stats\n",
    "from statsmodels.regression.rolling import RollingOLS\n",
    "import seaborn as sns\n",
    "from sklearn.linear_model import LinearRegression\n",
    "\n",
    "import warnings\n",
    "warnings.filterwarnings(\"ignore\")\n",
    "pd.set_option(\"display.precision\", 4)"
   ]
  },
  {
   "cell_type": "markdown",
   "metadata": {},
   "source": [
    "# Data"
   ]
  },
  {
   "cell_type": "code",
   "execution_count": 13,
   "metadata": {},
   "outputs": [
    {
     "data": {
      "text/html": [
       "<div>\n",
       "<style scoped>\n",
       "    .dataframe tbody tr th:only-of-type {\n",
       "        vertical-align: middle;\n",
       "    }\n",
       "\n",
       "    .dataframe tbody tr th {\n",
       "        vertical-align: top;\n",
       "    }\n",
       "\n",
       "    .dataframe thead th {\n",
       "        text-align: right;\n",
       "    }\n",
       "</style>\n",
       "<table border=\"1\" class=\"dataframe\">\n",
       "  <thead>\n",
       "    <tr style=\"text-align: right;\">\n",
       "      <th></th>\n",
       "      <th>CL1</th>\n",
       "      <th>GC1</th>\n",
       "      <th>KC1</th>\n",
       "      <th>ES1</th>\n",
       "      <th>BP1</th>\n",
       "    </tr>\n",
       "    <tr>\n",
       "      <th>date</th>\n",
       "      <th></th>\n",
       "      <th></th>\n",
       "      <th></th>\n",
       "      <th></th>\n",
       "      <th></th>\n",
       "    </tr>\n",
       "  </thead>\n",
       "  <tbody>\n",
       "    <tr>\n",
       "      <th>2009-01-31</th>\n",
       "      <td>-0.1135</td>\n",
       "      <td>0.0486</td>\n",
       "      <td>0.0611</td>\n",
       "      <td>-0.0861</td>\n",
       "      <td>-0.0078</td>\n",
       "    </tr>\n",
       "    <tr>\n",
       "      <th>2009-02-28</th>\n",
       "      <td>0.0447</td>\n",
       "      <td>0.0152</td>\n",
       "      <td>-0.0795</td>\n",
       "      <td>-0.1073</td>\n",
       "      <td>-0.0083</td>\n",
       "    </tr>\n",
       "    <tr>\n",
       "      <th>2009-03-31</th>\n",
       "      <td>0.0879</td>\n",
       "      <td>-0.0211</td>\n",
       "      <td>0.0344</td>\n",
       "      <td>0.0872</td>\n",
       "      <td>0.0017</td>\n",
       "    </tr>\n",
       "    <tr>\n",
       "      <th>2009-04-30</th>\n",
       "      <td>-0.0138</td>\n",
       "      <td>-0.0365</td>\n",
       "      <td>-0.0065</td>\n",
       "      <td>0.0947</td>\n",
       "      <td>0.0329</td>\n",
       "    </tr>\n",
       "    <tr>\n",
       "      <th>2009-05-31</th>\n",
       "      <td>0.2874</td>\n",
       "      <td>0.0983</td>\n",
       "      <td>0.1855</td>\n",
       "      <td>0.0552</td>\n",
       "      <td>0.0889</td>\n",
       "    </tr>\n",
       "  </tbody>\n",
       "</table>\n",
       "</div>"
      ],
      "text/plain": [
       "               CL1     GC1     KC1     ES1     BP1\n",
       "date                                              \n",
       "2009-01-31 -0.1135  0.0486  0.0611 -0.0861 -0.0078\n",
       "2009-02-28  0.0447  0.0152 -0.0795 -0.1073 -0.0083\n",
       "2009-03-31  0.0879 -0.0211  0.0344  0.0872  0.0017\n",
       "2009-04-30 -0.0138 -0.0365 -0.0065  0.0947  0.0329\n",
       "2009-05-31  0.2874  0.0983  0.1855  0.0552  0.0889"
      ]
     },
     "execution_count": 13,
     "metadata": {},
     "output_type": "execute_result"
    }
   ],
   "source": [
    "data = pd.read_excel(\"../data/midterm_1.xlsx\", index_col=0)\n",
    "data.head()"
   ]
  },
  {
   "cell_type": "markdown",
   "metadata": {},
   "source": [
    "# 1. Short Answer (30pts)\n",
    "## 1.1\n",
    "No. When comes to optimizing portfolio by the mean-variance optimization, the covariance of assets matters, not the individual Sharpe ratios. Crypto has a relatively low covariance to other assets, so it may help make the optimazation better by diversifing risk.\n",
    "\n",
    "## 1.2\n",
    "Yes. \n",
    "- The regular mean-variance optimazation is fragile due to the covariance and similarities of different assets. Due to the multicollinearity, the inverting covariance matrix is close to zero. \n",
    "- Also, the historical mean returns cannot be trusted. \n",
    "\n",
    "## 1.3 \n",
    "For actual data, we find that by using the assumption of **normal distribuion**, we get better estimation of VaR. \n",
    "\n",
    "We can do hit test for estimating VaR. Hit ratio is **not** the smaller the better. If the hit ratio is **close to the estimated var**, then this estimation has a better performance. It is \n",
    "\n",
    "## 1.4\n",
    "Harvard mainly used 2 ways to help getting more realistic weights: \n",
    "- to add constraints\n",
    "- to set institutional forcast mean returns other than trust historical returns. \n",
    "\n",
    "However, the results are still very dependent on the constraints. The final regression parameters are all close to boundary. \n",
    "\n",
    "## 1.5 \n",
    "- Ridge and LASSO add some punishment to parameters. For Ridge regression, it forces the covariance matrix to a diagnoize-liked matrix, and for LASSO regression, it keeps some of the regreesors and drop others. So they have much better and stable estimation of the covariance matrix. \n",
    "- Overall, they solve the multicollinearity. \n",
    "\n",
    "## 1.6 \n",
    "- **HFRIFWI** - Hedge fund Index Series. Index of surveyed hedge funds (2000 Holdings) designed to track the performance of the hedge market as a whole. Monthly returns based on surveys. This can't be launched as an ETF as they need a third party index as benchmark. \n",
    "\n",
    "- **MLEIFCTR** - Index Series created by Merrill Lynch, to replicate the performance of HFRI. Its a linear factor decomposition of the HFRI returns into 6 assets. This is not an asset and not an ETF. \n",
    "\n",
    "- **HDG** - Actual tradaeble asset trying to track the MLFM-ES, by actually trading on these assets. HDG do not strictly adhere to MLFM-ES replication and would deviate from positions if they can get additional returns or reduce transaction cost. <br><br>\n",
    "\n",
    "- **Differences:** HFRIFWI and MLEIFCTR are like SPX and SPY, and is MLEIFCTR liquid, large, investiable. HDG is the actual fund, it has some frictions. "
   ]
  },
  {
   "cell_type": "markdown",
   "metadata": {},
   "source": [
    "# 2. Allocation (15 pts)\n",
    "## 2.1 Report the weights of the Global Minimum Variance (GMV) portfolio, ωv, and the weights of the Tangency portfolio, ωt."
   ]
  },
  {
   "cell_type": "code",
   "execution_count": 15,
   "metadata": {},
   "outputs": [],
   "source": [
    "def cal_tangency_w(df, annual_factor):\n",
    "    '''give assets return and annualize factor, return tangency weight'''\n",
    "    N = df.shape[1]\n",
    "\n",
    "    Sigma = df.cov() * annual_factor  # covariance matrix, annualized\n",
    "    mean = df.mean() * annual_factor\n",
    "    Sigma_inv = np.linalg.inv(Sigma)\n",
    "    omega_t = (1/(np.ones(N) @ Sigma_inv @ mean)) * Sigma_inv @ mean\n",
    "    return pd.Series(omega_t, index=df.columns)\n",
    "\n",
    "\n",
    "def cal_GMV_w(df, annual_factor):\n",
    "    '''give assets return and annulize factor return global minimum variance weight'''\n",
    "    N = df.shape[1]\n",
    "\n",
    "    Sigma = df.cov() * annual_factor  # covariance matrix, annualized\n",
    "    Sigma_inv = np.linalg.inv(Sigma)\n",
    "    omega_v = (1/(np.ones(N) @ Sigma_inv @ np.ones(N))) * \\\n",
    "        Sigma_inv @ np.ones(N)\n",
    "    return pd.Series(omega_v, index=df.columns)"
   ]
  },
  {
   "cell_type": "code",
   "execution_count": 18,
   "metadata": {},
   "outputs": [
    {
     "data": {
      "text/html": [
       "<div>\n",
       "<style scoped>\n",
       "    .dataframe tbody tr th:only-of-type {\n",
       "        vertical-align: middle;\n",
       "    }\n",
       "\n",
       "    .dataframe tbody tr th {\n",
       "        vertical-align: top;\n",
       "    }\n",
       "\n",
       "    .dataframe thead th {\n",
       "        text-align: right;\n",
       "    }\n",
       "</style>\n",
       "<table border=\"1\" class=\"dataframe\">\n",
       "  <thead>\n",
       "    <tr style=\"text-align: right;\">\n",
       "      <th></th>\n",
       "      <th>GMV weight</th>\n",
       "    </tr>\n",
       "  </thead>\n",
       "  <tbody>\n",
       "    <tr>\n",
       "      <th>CL1</th>\n",
       "      <td>-0.0307</td>\n",
       "    </tr>\n",
       "    <tr>\n",
       "      <th>GC1</th>\n",
       "      <td>0.1791</td>\n",
       "    </tr>\n",
       "    <tr>\n",
       "      <th>KC1</th>\n",
       "      <td>-0.0106</td>\n",
       "    </tr>\n",
       "    <tr>\n",
       "      <th>ES1</th>\n",
       "      <td>0.0922</td>\n",
       "    </tr>\n",
       "    <tr>\n",
       "      <th>BP1</th>\n",
       "      <td>0.7700</td>\n",
       "    </tr>\n",
       "  </tbody>\n",
       "</table>\n",
       "</div>"
      ],
      "text/plain": [
       "     GMV weight\n",
       "CL1     -0.0307\n",
       "GC1      0.1791\n",
       "KC1     -0.0106\n",
       "ES1      0.0922\n",
       "BP1      0.7700"
      ]
     },
     "execution_count": 18,
     "metadata": {},
     "output_type": "execute_result"
    }
   ],
   "source": [
    "pd.DataFrame(cal_GMV_w(data, annual_factor=12),\n",
    "             columns=['GMV weight'])\n"
   ]
  },
  {
   "cell_type": "code",
   "execution_count": 17,
   "metadata": {},
   "outputs": [
    {
     "data": {
      "text/html": [
       "<div>\n",
       "<style scoped>\n",
       "    .dataframe tbody tr th:only-of-type {\n",
       "        vertical-align: middle;\n",
       "    }\n",
       "\n",
       "    .dataframe tbody tr th {\n",
       "        vertical-align: top;\n",
       "    }\n",
       "\n",
       "    .dataframe thead th {\n",
       "        text-align: right;\n",
       "    }\n",
       "</style>\n",
       "<table border=\"1\" class=\"dataframe\">\n",
       "  <thead>\n",
       "    <tr style=\"text-align: right;\">\n",
       "      <th></th>\n",
       "      <th>tangency weight</th>\n",
       "    </tr>\n",
       "  </thead>\n",
       "  <tbody>\n",
       "    <tr>\n",
       "      <th>CL1</th>\n",
       "      <td>-0.1281</td>\n",
       "    </tr>\n",
       "    <tr>\n",
       "      <th>GC1</th>\n",
       "      <td>1.1911</td>\n",
       "    </tr>\n",
       "    <tr>\n",
       "      <th>KC1</th>\n",
       "      <td>0.0978</td>\n",
       "    </tr>\n",
       "    <tr>\n",
       "      <th>ES1</th>\n",
       "      <td>4.2200</td>\n",
       "    </tr>\n",
       "    <tr>\n",
       "      <th>BP1</th>\n",
       "      <td>-4.3808</td>\n",
       "    </tr>\n",
       "  </tbody>\n",
       "</table>\n",
       "</div>"
      ],
      "text/plain": [
       "     tangency weight\n",
       "CL1          -0.1281\n",
       "GC1           1.1911\n",
       "KC1           0.0978\n",
       "ES1           4.2200\n",
       "BP1          -4.3808"
      ]
     },
     "execution_count": 17,
     "metadata": {},
     "output_type": "execute_result"
    }
   ],
   "source": [
    "pd.DataFrame(cal_tangency_w(data, annual_factor=12), columns=['tangency weight'])"
   ]
  },
  {
   "cell_type": "markdown",
   "metadata": {},
   "source": [
    "## 2.2 What are the weights of the optimal portfolio, ω∗, with a targeted total mean return of 0.20 annualized"
   ]
  },
  {
   "cell_type": "code",
   "execution_count": 19,
   "metadata": {},
   "outputs": [],
   "source": [
    "def cal_delta(mu_p, df, annual_factor=12):\n",
    "    '''give target mu_p, assets return and annualize factor, return delta and weight'''\n",
    "    mu_p_ann = mu_p * annual_factor\n",
    "    mu = df.mean() * annual_factor\n",
    "    tangency_w = cal_tangency_w(df, annual_factor)\n",
    "    GMV_w = cal_GMV_w(df, annual_factor)\n",
    "    delta = (mu_p_ann - mu.T @ GMV_w)/(mu.T @ tangency_w - mu.T @ GMV_w)\n",
    "    weight_star = delta * tangency_w + (1-delta) * GMV_w\n",
    "    return delta, weight_star\n"
   ]
  },
  {
   "cell_type": "code",
   "execution_count": 23,
   "metadata": {},
   "outputs": [
    {
     "data": {
      "text/html": [
       "<div>\n",
       "<style scoped>\n",
       "    .dataframe tbody tr th:only-of-type {\n",
       "        vertical-align: middle;\n",
       "    }\n",
       "\n",
       "    .dataframe tbody tr th {\n",
       "        vertical-align: top;\n",
       "    }\n",
       "\n",
       "    .dataframe thead th {\n",
       "        text-align: right;\n",
       "    }\n",
       "</style>\n",
       "<table border=\"1\" class=\"dataframe\">\n",
       "  <thead>\n",
       "    <tr style=\"text-align: right;\">\n",
       "      <th></th>\n",
       "      <th>weight star</th>\n",
       "    </tr>\n",
       "  </thead>\n",
       "  <tbody>\n",
       "    <tr>\n",
       "      <th>CL1</th>\n",
       "      <td>-0.3984</td>\n",
       "    </tr>\n",
       "    <tr>\n",
       "      <th>GC1</th>\n",
       "      <td>3.9982</td>\n",
       "    </tr>\n",
       "    <tr>\n",
       "      <th>KC1</th>\n",
       "      <td>0.3987</td>\n",
       "    </tr>\n",
       "    <tr>\n",
       "      <th>ES1</th>\n",
       "      <td>15.6703</td>\n",
       "    </tr>\n",
       "    <tr>\n",
       "      <th>BP1</th>\n",
       "      <td>-18.6687</td>\n",
       "    </tr>\n",
       "  </tbody>\n",
       "</table>\n",
       "</div>"
      ],
      "text/plain": [
       "     weight star\n",
       "CL1      -0.3984\n",
       "GC1       3.9982\n",
       "KC1       0.3987\n",
       "ES1      15.6703\n",
       "BP1     -18.6687"
      ]
     },
     "execution_count": 23,
     "metadata": {},
     "output_type": "execute_result"
    }
   ],
   "source": [
    "delta, weight_star = cal_delta(mu_p=0.2, df=data, annual_factor=12)\n",
    "pd.DataFrame(weight_star, columns=[\"weight star\"])"
   ]
  },
  {
   "cell_type": "markdown",
   "metadata": {},
   "source": [
    "## 2.3 Suppose we re-did this problem assuming the existence of a risk-free rate. Would the solution with mean return of 0.20 be guaranteed to have less than or equal volatility as the solution above, where we did not have a risk-free rate? Why?\n",
    "\n",
    "**Answers:** No. As we can see from the plot, the tangency portfolio has the highest sharpe ratio in every Effective Frontier portfolios. So if we have a risk-free rate lower than zero, which can be happened, we may get higher volatility in order to get the same mean return as other effective frontier portfolio. However, if risk free rate is better than or equal to zero, we may be garanteed to have a less volatility. "
   ]
  },
  {
   "cell_type": "markdown",
   "metadata": {},
   "source": [
    "# 3. Hedging & Replication\n",
    "## 3.1 Report the last five values of the timeseries of alpha and beta estimates."
   ]
  },
  {
   "cell_type": "code",
   "execution_count": 80,
   "metadata": {},
   "outputs": [],
   "source": [
    "y = data[\"BP1\"]\n",
    "X = data[\"ES1\"]\n",
    "X = sm.add_constant(X)\n",
    "model = RollingOLS(y, X, window=36)\n",
    "rolling_paras = model.fit().params.copy()\n",
    "replication_result = (rolling_paras * X).sum(axis=1)\n",
    "rolling_paras.columns = [\"alpha\", \"beta\"]"
   ]
  },
  {
   "cell_type": "code",
   "execution_count": 82,
   "metadata": {},
   "outputs": [
    {
     "data": {
      "text/html": [
       "<div>\n",
       "<style scoped>\n",
       "    .dataframe tbody tr th:only-of-type {\n",
       "        vertical-align: middle;\n",
       "    }\n",
       "\n",
       "    .dataframe tbody tr th {\n",
       "        vertical-align: top;\n",
       "    }\n",
       "\n",
       "    .dataframe thead th {\n",
       "        text-align: right;\n",
       "    }\n",
       "</style>\n",
       "<table border=\"1\" class=\"dataframe\">\n",
       "  <thead>\n",
       "    <tr style=\"text-align: right;\">\n",
       "      <th></th>\n",
       "      <th>alpha</th>\n",
       "      <th>beta</th>\n",
       "    </tr>\n",
       "    <tr>\n",
       "      <th>date</th>\n",
       "      <th></th>\n",
       "      <th></th>\n",
       "    </tr>\n",
       "  </thead>\n",
       "  <tbody>\n",
       "    <tr>\n",
       "      <th>2022-02-28</th>\n",
       "      <td>-0.0030</td>\n",
       "      <td>0.2479</td>\n",
       "    </tr>\n",
       "    <tr>\n",
       "      <th>2022-03-31</th>\n",
       "      <td>-0.0032</td>\n",
       "      <td>0.2412</td>\n",
       "    </tr>\n",
       "    <tr>\n",
       "      <th>2022-04-30</th>\n",
       "      <td>-0.0037</td>\n",
       "      <td>0.2579</td>\n",
       "    </tr>\n",
       "    <tr>\n",
       "      <th>2022-05-31</th>\n",
       "      <td>-0.0031</td>\n",
       "      <td>0.2478</td>\n",
       "    </tr>\n",
       "    <tr>\n",
       "      <th>2022-06-30</th>\n",
       "      <td>-0.0033</td>\n",
       "      <td>0.2584</td>\n",
       "    </tr>\n",
       "  </tbody>\n",
       "</table>\n",
       "</div>"
      ],
      "text/plain": [
       "             alpha    beta\n",
       "date                      \n",
       "2022-02-28 -0.0030  0.2479\n",
       "2022-03-31 -0.0032  0.2412\n",
       "2022-04-30 -0.0037  0.2579\n",
       "2022-05-31 -0.0031  0.2478\n",
       "2022-06-30 -0.0033  0.2584"
      ]
     },
     "execution_count": 82,
     "metadata": {},
     "output_type": "execute_result"
    }
   ],
   "source": [
    "rolling_paras.tail()"
   ]
  },
  {
   "cell_type": "markdown",
   "metadata": {},
   "source": [
    "## 3.2 Report the last five values of the timeseries"
   ]
  },
  {
   "cell_type": "code",
   "execution_count": 83,
   "metadata": {},
   "outputs": [
    {
     "data": {
      "text/html": [
       "<div>\n",
       "<style scoped>\n",
       "    .dataframe tbody tr th:only-of-type {\n",
       "        vertical-align: middle;\n",
       "    }\n",
       "\n",
       "    .dataframe tbody tr th {\n",
       "        vertical-align: top;\n",
       "    }\n",
       "\n",
       "    .dataframe thead th {\n",
       "        text-align: right;\n",
       "    }\n",
       "</style>\n",
       "<table border=\"1\" class=\"dataframe\">\n",
       "  <thead>\n",
       "    <tr style=\"text-align: right;\">\n",
       "      <th></th>\n",
       "      <th>rep_result</th>\n",
       "    </tr>\n",
       "    <tr>\n",
       "      <th>date</th>\n",
       "      <th></th>\n",
       "    </tr>\n",
       "  </thead>\n",
       "  <tbody>\n",
       "    <tr>\n",
       "      <th>2022-02-28</th>\n",
       "      <td>-0.0105</td>\n",
       "    </tr>\n",
       "    <tr>\n",
       "      <th>2022-03-31</th>\n",
       "      <td>0.0063</td>\n",
       "    </tr>\n",
       "    <tr>\n",
       "      <th>2022-04-30</th>\n",
       "      <td>-0.0266</td>\n",
       "    </tr>\n",
       "    <tr>\n",
       "      <th>2022-05-31</th>\n",
       "      <td>-0.0029</td>\n",
       "    </tr>\n",
       "    <tr>\n",
       "      <th>2022-06-30</th>\n",
       "      <td>-0.0248</td>\n",
       "    </tr>\n",
       "  </tbody>\n",
       "</table>\n",
       "</div>"
      ],
      "text/plain": [
       "            rep_result\n",
       "date                  \n",
       "2022-02-28     -0.0105\n",
       "2022-03-31      0.0063\n",
       "2022-04-30     -0.0266\n",
       "2022-05-31     -0.0029\n",
       "2022-06-30     -0.0248"
      ]
     },
     "execution_count": 83,
     "metadata": {},
     "output_type": "execute_result"
    }
   ],
   "source": [
    "rep_result = replication_result.iloc[35:].copy()\n",
    "rep_result = pd.DataFrame(rep_result, columns=[\"rep_result\"])\n",
    "rep_result.tail()"
   ]
  },
  {
   "cell_type": "markdown",
   "metadata": {},
   "source": [
    "## 3.3 Report the mean, volatility and mean-to-vol ratio of this replicated position, r∗. Annualize the statistics."
   ]
  },
  {
   "cell_type": "code",
   "execution_count": 84,
   "metadata": {},
   "outputs": [],
   "source": [
    "def summary_stat(df, annual_factor):\n",
    "    '''summary assets' mean return, voaltility(stdev) and sharpe ratio'''\n",
    "    result = pd.DataFrame()\n",
    "    result[\"mean\"] = df.mean() * annual_factor\n",
    "    result[\"volatility\"] = df.std() * np.sqrt(annual_factor)\n",
    "    result[\"mean-to-vol Ratio\"] = result[\"mean\"]/result[\"volatility\"]\n",
    "    return result"
   ]
  },
  {
   "cell_type": "code",
   "execution_count": 85,
   "metadata": {},
   "outputs": [
    {
     "data": {
      "text/html": [
       "<div>\n",
       "<style scoped>\n",
       "    .dataframe tbody tr th:only-of-type {\n",
       "        vertical-align: middle;\n",
       "    }\n",
       "\n",
       "    .dataframe tbody tr th {\n",
       "        vertical-align: top;\n",
       "    }\n",
       "\n",
       "    .dataframe thead th {\n",
       "        text-align: right;\n",
       "    }\n",
       "</style>\n",
       "<table border=\"1\" class=\"dataframe\">\n",
       "  <thead>\n",
       "    <tr style=\"text-align: right;\">\n",
       "      <th></th>\n",
       "      <th>mean</th>\n",
       "      <th>volatility</th>\n",
       "      <th>mean-to-vol Ratio</th>\n",
       "    </tr>\n",
       "  </thead>\n",
       "  <tbody>\n",
       "    <tr>\n",
       "      <th>rep_result</th>\n",
       "      <td>-0.0155</td>\n",
       "      <td>0.0394</td>\n",
       "      <td>-0.3937</td>\n",
       "    </tr>\n",
       "  </tbody>\n",
       "</table>\n",
       "</div>"
      ],
      "text/plain": [
       "              mean  volatility  mean-to-vol Ratio\n",
       "rep_result -0.0155      0.0394            -0.3937"
      ]
     },
     "execution_count": 85,
     "metadata": {},
     "output_type": "execute_result"
    }
   ],
   "source": [
    "summary_stat(df=pd.DataFrame(rep_result,\n",
    "             columns=[\"rep_result\"]), annual_factor=12)\n"
   ]
  },
  {
   "cell_type": "markdown",
   "metadata": {},
   "source": [
    "## 3.4 How correlated is this replicated position, r∗, to ES1"
   ]
  },
  {
   "cell_type": "code",
   "execution_count": 86,
   "metadata": {},
   "outputs": [
    {
     "data": {
      "text/html": [
       "<div>\n",
       "<style scoped>\n",
       "    .dataframe tbody tr th:only-of-type {\n",
       "        vertical-align: middle;\n",
       "    }\n",
       "\n",
       "    .dataframe tbody tr th {\n",
       "        vertical-align: top;\n",
       "    }\n",
       "\n",
       "    .dataframe thead th {\n",
       "        text-align: right;\n",
       "    }\n",
       "</style>\n",
       "<table border=\"1\" class=\"dataframe\">\n",
       "  <thead>\n",
       "    <tr style=\"text-align: right;\">\n",
       "      <th></th>\n",
       "      <th>ES1</th>\n",
       "      <th>rep_result</th>\n",
       "    </tr>\n",
       "  </thead>\n",
       "  <tbody>\n",
       "    <tr>\n",
       "      <th>ES1</th>\n",
       "      <td>1.0000</td>\n",
       "      <td>0.4939</td>\n",
       "    </tr>\n",
       "    <tr>\n",
       "      <th>rep_result</th>\n",
       "      <td>0.4939</td>\n",
       "      <td>1.0000</td>\n",
       "    </tr>\n",
       "  </tbody>\n",
       "</table>\n",
       "</div>"
      ],
      "text/plain": [
       "               ES1  rep_result\n",
       "ES1         1.0000      0.4939\n",
       "rep_result  0.4939      1.0000"
      ]
     },
     "execution_count": 86,
     "metadata": {},
     "output_type": "execute_result"
    }
   ],
   "source": [
    "res = pd.DataFrame(columns=[\"ES1\", \"rep_result\"])\n",
    "res[\"ES1\"] = y\n",
    "res[\"rep_result\"] = replication_result\n",
    "res = res.iloc[35:].copy()\n",
    "res.corr()"
   ]
  },
  {
   "cell_type": "code",
   "execution_count": 87,
   "metadata": {},
   "outputs": [
    {
     "data": {
      "text/plain": [
       "<matplotlib.axes._subplots.AxesSubplot at 0x7fb2d635bad0>"
      ]
     },
     "execution_count": 87,
     "metadata": {},
     "output_type": "execute_result"
    },
    {
     "data": {
      "image/png": "[encoded data removed]",
      "text/plain": [
       "<Figure size 720x360 with 1 Axes>"
      ]
     },
     "metadata": {
      "needs_background": "light"
     },
     "output_type": "display_data"
    }
   ],
   "source": [
    "res.plot(figsize=(10, 5))"
   ]
  },
  {
   "cell_type": "code",
   "execution_count": 138,
   "metadata": {},
   "outputs": [
    {
     "data": {
      "text/html": [
       "<div>\n",
       "<style scoped>\n",
       "    .dataframe tbody tr th:only-of-type {\n",
       "        vertical-align: middle;\n",
       "    }\n",
       "\n",
       "    .dataframe tbody tr th {\n",
       "        vertical-align: top;\n",
       "    }\n",
       "\n",
       "    .dataframe thead th {\n",
       "        text-align: right;\n",
       "    }\n",
       "</style>\n",
       "<table border=\"1\" class=\"dataframe\">\n",
       "  <thead>\n",
       "    <tr style=\"text-align: right;\">\n",
       "      <th></th>\n",
       "      <th>ES1</th>\n",
       "      <th>BP1</th>\n",
       "    </tr>\n",
       "  </thead>\n",
       "  <tbody>\n",
       "    <tr>\n",
       "      <th>ES1</th>\n",
       "      <td>1.0000</td>\n",
       "      <td>0.4648</td>\n",
       "    </tr>\n",
       "    <tr>\n",
       "      <th>BP1</th>\n",
       "      <td>0.4648</td>\n",
       "      <td>1.0000</td>\n",
       "    </tr>\n",
       "  </tbody>\n",
       "</table>\n",
       "</div>"
      ],
      "text/plain": [
       "        ES1     BP1\n",
       "ES1  1.0000  0.4648\n",
       "BP1  0.4648  1.0000"
      ]
     },
     "execution_count": 138,
     "metadata": {},
     "output_type": "execute_result"
    }
   ],
   "source": [
    "# those two assets correlation, just reports for comparision, not an answer. \n",
    "data[[\"ES1\", \"BP1\"]].corr()"
   ]
  },
  {
   "cell_type": "code",
   "execution_count": 139,
   "metadata": {},
   "outputs": [
    {
     "data": {
      "text/html": [
       "<div>\n",
       "<style scoped>\n",
       "    .dataframe tbody tr th:only-of-type {\n",
       "        vertical-align: middle;\n",
       "    }\n",
       "\n",
       "    .dataframe tbody tr th {\n",
       "        vertical-align: top;\n",
       "    }\n",
       "\n",
       "    .dataframe thead th {\n",
       "        text-align: right;\n",
       "    }\n",
       "</style>\n",
       "<table border=\"1\" class=\"dataframe\">\n",
       "  <thead>\n",
       "    <tr style=\"text-align: right;\">\n",
       "      <th></th>\n",
       "      <th>ES1</th>\n",
       "      <th>rep_result</th>\n",
       "    </tr>\n",
       "  </thead>\n",
       "  <tbody>\n",
       "    <tr>\n",
       "      <th>ES1</th>\n",
       "      <td>1.0000</td>\n",
       "      <td>0.4939</td>\n",
       "    </tr>\n",
       "    <tr>\n",
       "      <th>rep_result</th>\n",
       "      <td>0.4939</td>\n",
       "      <td>1.0000</td>\n",
       "    </tr>\n",
       "  </tbody>\n",
       "</table>\n",
       "</div>"
      ],
      "text/plain": [
       "               ES1  rep_result\n",
       "ES1         1.0000      0.4939\n",
       "rep_result  0.4939      1.0000"
      ]
     },
     "execution_count": 139,
     "metadata": {},
     "output_type": "execute_result"
    }
   ],
   "source": [
    "res.corr()"
   ]
  },
  {
   "cell_type": "markdown",
   "metadata": {},
   "source": [
    "**Answers:** The correlation between these two is 0.49, a little bit higher than the correlation between ES1 & BP1. So ES1 cannot be replicated simply by BP1, there are some different risks of these two assets. "
   ]
  },
  {
   "cell_type": "markdown",
   "metadata": {},
   "source": [
    "# 4. Modeling Risk\n",
    "## 4.1 Compare the performance statistics between ES1, GC1, and the 50/50 portfolio. Annu-\n",
    "alize mean and volatility."
   ]
  },
  {
   "cell_type": "code",
   "execution_count": 140,
   "metadata": {},
   "outputs": [
    {
     "data": {
      "text/html": [
       "<div>\n",
       "<style scoped>\n",
       "    .dataframe tbody tr th:only-of-type {\n",
       "        vertical-align: middle;\n",
       "    }\n",
       "\n",
       "    .dataframe tbody tr th {\n",
       "        vertical-align: top;\n",
       "    }\n",
       "\n",
       "    .dataframe thead th {\n",
       "        text-align: right;\n",
       "    }\n",
       "</style>\n",
       "<table border=\"1\" class=\"dataframe\">\n",
       "  <thead>\n",
       "    <tr style=\"text-align: right;\">\n",
       "      <th></th>\n",
       "      <th>ES1</th>\n",
       "      <th>GC1</th>\n",
       "      <th>50/50 portfolio</th>\n",
       "    </tr>\n",
       "    <tr>\n",
       "      <th>date</th>\n",
       "      <th></th>\n",
       "      <th></th>\n",
       "      <th></th>\n",
       "    </tr>\n",
       "  </thead>\n",
       "  <tbody>\n",
       "    <tr>\n",
       "      <th>2009-01-31</th>\n",
       "      <td>-0.0861</td>\n",
       "      <td>0.0486</td>\n",
       "      <td>-0.0187</td>\n",
       "    </tr>\n",
       "    <tr>\n",
       "      <th>2009-02-28</th>\n",
       "      <td>-0.1073</td>\n",
       "      <td>0.0152</td>\n",
       "      <td>-0.0461</td>\n",
       "    </tr>\n",
       "    <tr>\n",
       "      <th>2009-03-31</th>\n",
       "      <td>0.0872</td>\n",
       "      <td>-0.0211</td>\n",
       "      <td>0.0330</td>\n",
       "    </tr>\n",
       "    <tr>\n",
       "      <th>2009-04-30</th>\n",
       "      <td>0.0947</td>\n",
       "      <td>-0.0365</td>\n",
       "      <td>0.0291</td>\n",
       "    </tr>\n",
       "    <tr>\n",
       "      <th>2009-05-31</th>\n",
       "      <td>0.0552</td>\n",
       "      <td>0.0983</td>\n",
       "      <td>0.0767</td>\n",
       "    </tr>\n",
       "  </tbody>\n",
       "</table>\n",
       "</div>"
      ],
      "text/plain": [
       "               ES1     GC1  50/50 portfolio\n",
       "date                                       \n",
       "2009-01-31 -0.0861  0.0486          -0.0187\n",
       "2009-02-28 -0.1073  0.0152          -0.0461\n",
       "2009-03-31  0.0872 -0.0211           0.0330\n",
       "2009-04-30  0.0947 -0.0365           0.0291\n",
       "2009-05-31  0.0552  0.0983           0.0767"
      ]
     },
     "execution_count": 140,
     "metadata": {},
     "output_type": "execute_result"
    }
   ],
   "source": [
    "portfolio_data = data[[\"ES1\", \"GC1\"]]\n",
    "portfolio_data[\"50/50 portfolio\"] = 0.5*portfolio_data[\"ES1\"] + 0.5*portfolio_data[\"GC1\"]\n",
    "portfolio_data.head()"
   ]
  },
  {
   "cell_type": "code",
   "execution_count": 141,
   "metadata": {},
   "outputs": [
    {
     "data": {
      "text/html": [
       "<div>\n",
       "<style scoped>\n",
       "    .dataframe tbody tr th:only-of-type {\n",
       "        vertical-align: middle;\n",
       "    }\n",
       "\n",
       "    .dataframe tbody tr th {\n",
       "        vertical-align: top;\n",
       "    }\n",
       "\n",
       "    .dataframe thead th {\n",
       "        text-align: right;\n",
       "    }\n",
       "</style>\n",
       "<table border=\"1\" class=\"dataframe\">\n",
       "  <thead>\n",
       "    <tr style=\"text-align: right;\">\n",
       "      <th></th>\n",
       "      <th>mean</th>\n",
       "      <th>volatility</th>\n",
       "      <th>mean-to-vol Ratio</th>\n",
       "      <th>Max Drawdown</th>\n",
       "    </tr>\n",
       "  </thead>\n",
       "  <tbody>\n",
       "    <tr>\n",
       "      <th>ES1</th>\n",
       "      <td>0.1291</td>\n",
       "      <td>0.1511</td>\n",
       "      <td>0.8547</td>\n",
       "      <td>-0.2032</td>\n",
       "    </tr>\n",
       "    <tr>\n",
       "      <th>GC1</th>\n",
       "      <td>0.0540</td>\n",
       "      <td>0.1601</td>\n",
       "      <td>0.3373</td>\n",
       "      <td>-0.4296</td>\n",
       "    </tr>\n",
       "    <tr>\n",
       "      <th>50/50 portfolio</th>\n",
       "      <td>0.0916</td>\n",
       "      <td>0.1141</td>\n",
       "      <td>0.8026</td>\n",
       "      <td>-0.1210</td>\n",
       "    </tr>\n",
       "  </tbody>\n",
       "</table>\n",
       "</div>"
      ],
      "text/plain": [
       "                   mean  volatility  mean-to-vol Ratio  Max Drawdown\n",
       "ES1              0.1291      0.1511             0.8547       -0.2032\n",
       "GC1              0.0540      0.1601             0.3373       -0.4296\n",
       "50/50 portfolio  0.0916      0.1141             0.8026       -0.1210"
      ]
     },
     "execution_count": 141,
     "metadata": {},
     "output_type": "execute_result"
    }
   ],
   "source": [
    "def Metrics(df, annual_factor, relative=False, mdd=True):\n",
    "    result = pd.DataFrame()\n",
    "    result[\"mean\"] = df.mean() * annual_factor\n",
    "    result[\"volatility\"] = df.std() * np.sqrt(annual_factor)\n",
    "    result[\"mean-to-vol Ratio\"] = result[\"mean\"]/result[\"volatility\"]\n",
    "\n",
    "    cum_returns = (1 + df).cumprod()\n",
    "    rolling_max = cum_returns.cummax()  # cummax function\n",
    "    drawdown = (cum_returns - rolling_max) / rolling_max\n",
    "\n",
    "    max_drawdown = drawdown.min()\n",
    "    result['Max Drawdown'] = max_drawdown\n",
    "    return result\n",
    "\n",
    "\n",
    "Metrics(portfolio_data, annual_factor=12)"
   ]
  },
  {
   "cell_type": "markdown",
   "metadata": {},
   "source": [
    "## 4.2 How does the 50/50 portfolio compare to the individual components in terms of \n",
    "- volatility\n",
    "- maximum drawdown\n",
    "- mean-to-vol ratio\n",
    "\n",
    "**Answers:**\n",
    "\n",
    "- 50/50 portfolio has a lower volatility, lower maximum drawdown, however, it has a lower mean-to-vol ratio than equity. \n",
    "- Yes. It is as expected from the portfolio theory. We do not optimize the mean-to-vol ratio here, if we optimize it, we can have a higher ratio of our portfolio than this two assets. However, by diversification, we do cut down the risk by reducing the volatility and the maximum drawdown. "
   ]
  },
  {
   "cell_type": "markdown",
   "metadata": {},
   "source": [
    "## 4.3 Calculate the 1-period, 1% CVaR of the 50/50 portfolio analytically.\n",
    "### 4.3.1 Full sample estimation"
   ]
  },
  {
   "cell_type": "code",
   "execution_count": 121,
   "metadata": {},
   "outputs": [
    {
     "name": "stdout",
     "output_type": "stream",
     "text": [
      "-0.08777058366877924\n"
     ]
    }
   ],
   "source": [
    "portfolio = portfolio_data[\"50/50 portfolio\"]\n",
    "z_phi = stats.norm.ppf(0.01)\n",
    "var = portfolio.std()\n",
    "cvar = - stats.norm.pdf(z_phi)/0.01*var\n",
    "print(cvar)"
   ]
  },
  {
   "cell_type": "markdown",
   "metadata": {},
   "source": [
    "### 4.3.2 Rolling 24 month volatility estimation"
   ]
  },
  {
   "cell_type": "code",
   "execution_count": 153,
   "metadata": {},
   "outputs": [],
   "source": [
    "rolling_mu = portfolio.shift().rolling(24).mean()\n",
    "rolling_vol = np.sqrt((portfolio**2).shift().rolling(24).mean())\n",
    "# fi = - rolling_mu/rolling_vol\n",
    "CVaR_ls = []\n",
    "for var in rolling_vol:\n",
    "    # cvar = stats.norm.expect(scale=var, ub=var*(-1.65))/0.05 # same answers\n",
    "    cvar = - stats.norm.pdf(z_phi)/0.01*var\n",
    "    CVaR_ls.append(cvar)\n",
    "CVaR = pd.DataFrame(CVaR_ls, index=rolling_mu.index, columns=[\"CVaR\"])"
   ]
  },
  {
   "cell_type": "code",
   "execution_count": 154,
   "metadata": {},
   "outputs": [
    {
     "data": {
      "image/png": "[encoded data removed]",
      "text/plain": [
       "<Figure size 432x288 with 1 Axes>"
      ]
     },
     "metadata": {
      "needs_background": "light"
     },
     "output_type": "display_data"
    }
   ],
   "source": [
    "CVaR.plot()\n",
    "\n",
    "plt.title('CVaR: normal model: rolling vol')\n",
    "plt.ylabel('CVaR')\n",
    "plt.xlabel('Date')\n",
    "plt.show()"
   ]
  },
  {
   "cell_type": "code",
   "execution_count": 155,
   "metadata": {},
   "outputs": [
    {
     "data": {
      "text/plain": [
       "CVaR   -0.0924\n",
       "Name: 2022-06-30 00:00:00, dtype: float64"
      ]
     },
     "execution_count": 155,
     "metadata": {},
     "output_type": "execute_result"
    }
   ],
   "source": [
    "CVaR.iloc[-1]"
   ]
  },
  {
   "cell_type": "markdown",
   "metadata": {},
   "source": [
    "## 4.4 What is the probability that over the next 10 years, ES1 underperforms the 50/50 portfolio\n",
    "\n",
    "$$\n",
    "Pr(R ^ {50/50}_{t, t+10} > R ^ {ES1}_{t, t+10})\n",
    "= Pr(\\overline{R ^ {50/50}_{t, t+10}} >\\overline{R ^ {ES1}_{t, t+10}})\n",
    "= Pr(\\overline{R ^ {50/50}_{t, t+10}} - \\overline{R ^ {ES1}_{t, t+10}} > 0)\n",
    "$$\n",
    "\n",
    "$$\n",
    "\\overline{R ^ {50/50}_{t, t+10}} - \\overline{R ^ {ES1}_{t, t+10}} \\sim N(\\mu_{50/50} - \\mu_{ES1}, \\dfrac{Var(R ^ {50/50} - R ^ {ES1})}{10})\n",
    "$$\n"
   ]
  },
  {
   "cell_type": "code",
   "execution_count": 148,
   "metadata": {},
   "outputs": [],
   "source": [
    "portfolio_data[\"R_diff\"] = np.log(\n",
    "    1+portfolio_data['ES1']) - np.log(1+portfolio_data['50/50 portfolio'])"
   ]
  },
  {
   "cell_type": "code",
   "execution_count": 149,
   "metadata": {},
   "outputs": [
    {
     "name": "stdout",
     "output_type": "stream",
     "text": [
      "The probability of ES1 underperforming 50/50 portfolio over the next 10 years is 0.8316345539308929.\n"
     ]
    }
   ],
   "source": [
    "tilde_mu = portfolio_data['R_diff'].mean()*12\n",
    "tilde_sigma = portfolio_data['R_diff'].std()*np.sqrt(12)\n",
    "\n",
    "\n",
    "def p(h, tilde_mu, tilde_sigma):\n",
    "    x = - np.sqrt(h) * tilde_mu / tilde_sigma\n",
    "    val = scipy.stats.norm.cdf(x)\n",
    "    return val\n",
    "\n",
    "print(\n",
    "    f\"The probability of ES1 underperforming 50/50 portfolio over the next 10 years is {1 - p(10, tilde_mu, tilde_sigma)}.\")\n"
   ]
  },
  {
   "cell_type": "code",
   "execution_count": null,
   "metadata": {},
   "outputs": [],
   "source": []
  }
 ],
 "metadata": {
  "kernelspec": {
   "display_name": "Python 3.7.4 ('base')",
   "language": "python",
   "name": "python3"
  },
  "language_info": {
   "codemirror_mode": {
    "name": "ipython",
    "version": 3
   },
   "file_extension": ".py",
   "mimetype": "text/x-python",
   "name": "python",
   "nbconvert_exporter": "python",
   "pygments_lexer": "ipython3",
   "version": "3.7.4"
  },
  "orig_nbformat": 4,
  "vscode": {
   "interpreter": {
    "hash": "8aba7c7331238ad8bef3d07aa03cf759b24ea56e2341769d4c660500293a6aca"
   }
  }
 },
 "nbformat": 4,
 "nbformat_minor": 2
}
