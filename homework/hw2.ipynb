{
 "cells": [
  {
   "cell_type": "markdown",
   "metadata": {},
   "source": [
    "## 2 Analyzing the Data\n",
    "### Set up"
   ]
  },
  {
   "cell_type": "code",
   "execution_count": 131,
   "metadata": {},
   "outputs": [],
   "source": [
    "import pandas as pd\n",
    "import numpy as np\n",
    "import seaborn as sns\n",
    "from matplotlib import pyplot as plt\n",
    "from datetime import datetime\n",
    "\n",
    "import statsmodels.api as sm\n",
    "from sklearn.linear_model import LinearRegression"
   ]
  },
  {
   "cell_type": "markdown",
   "metadata": {},
   "source": [
    "### Data\n",
    "**Use the data found on Canvas, in ‘proshares analysis data.xlsx’. It has monthly data on financial indexes and ETFs from Aug 2011 through Sep 2021.**"
   ]
  },
  {
   "cell_type": "code",
   "execution_count": 4,
   "metadata": {},
   "outputs": [
    {
     "data": {
      "text/html": [
       "<div>\n",
       "<style scoped>\n",
       "    .dataframe tbody tr th:only-of-type {\n",
       "        vertical-align: middle;\n",
       "    }\n",
       "\n",
       "    .dataframe tbody tr th {\n",
       "        vertical-align: top;\n",
       "    }\n",
       "\n",
       "    .dataframe thead th {\n",
       "        text-align: right;\n",
       "    }\n",
       "</style>\n",
       "<table border=\"1\" class=\"dataframe\">\n",
       "  <thead>\n",
       "    <tr style=\"text-align: right;\">\n",
       "      <th></th>\n",
       "      <th>HFRIFWI Index</th>\n",
       "      <th>MLEIFCTR Index</th>\n",
       "      <th>MLEIFCTX Index</th>\n",
       "      <th>HDG US Equity</th>\n",
       "      <th>QAI US Equity</th>\n",
       "    </tr>\n",
       "  </thead>\n",
       "  <tbody>\n",
       "    <tr>\n",
       "      <th>2011-08-31</th>\n",
       "      <td>-0.032149</td>\n",
       "      <td>-0.025588</td>\n",
       "      <td>-0.025689</td>\n",
       "      <td>-0.027035</td>\n",
       "      <td>-0.006489</td>\n",
       "    </tr>\n",
       "    <tr>\n",
       "      <th>2011-09-30</th>\n",
       "      <td>-0.038903</td>\n",
       "      <td>-0.032414</td>\n",
       "      <td>-0.032593</td>\n",
       "      <td>-0.032465</td>\n",
       "      <td>-0.022144</td>\n",
       "    </tr>\n",
       "    <tr>\n",
       "      <th>2011-10-31</th>\n",
       "      <td>0.026858</td>\n",
       "      <td>0.043593</td>\n",
       "      <td>0.043320</td>\n",
       "      <td>0.050530</td>\n",
       "      <td>0.025241</td>\n",
       "    </tr>\n",
       "    <tr>\n",
       "      <th>2011-11-30</th>\n",
       "      <td>-0.013453</td>\n",
       "      <td>-0.012142</td>\n",
       "      <td>-0.012431</td>\n",
       "      <td>-0.028606</td>\n",
       "      <td>-0.007965</td>\n",
       "    </tr>\n",
       "    <tr>\n",
       "      <th>2011-12-31</th>\n",
       "      <td>-0.004479</td>\n",
       "      <td>0.001938</td>\n",
       "      <td>0.001796</td>\n",
       "      <td>0.012875</td>\n",
       "      <td>0.001823</td>\n",
       "    </tr>\n",
       "  </tbody>\n",
       "</table>\n",
       "</div>"
      ],
      "text/plain": [
       "            HFRIFWI Index  MLEIFCTR Index  MLEIFCTX Index  HDG US Equity  \\\n",
       "2011-08-31      -0.032149       -0.025588       -0.025689      -0.027035   \n",
       "2011-09-30      -0.038903       -0.032414       -0.032593      -0.032465   \n",
       "2011-10-31       0.026858        0.043593        0.043320       0.050530   \n",
       "2011-11-30      -0.013453       -0.012142       -0.012431      -0.028606   \n",
       "2011-12-31      -0.004479        0.001938        0.001796       0.012875   \n",
       "\n",
       "            QAI US Equity  \n",
       "2011-08-31      -0.006489  \n",
       "2011-09-30      -0.022144  \n",
       "2011-10-31       0.025241  \n",
       "2011-11-30      -0.007965  \n",
       "2011-12-31       0.001823  "
      ]
     },
     "execution_count": 4,
     "metadata": {},
     "output_type": "execute_result"
    }
   ],
   "source": [
    "fund_ret = pd.read_excel(\"../data/proshares_analysis_data.xlsx\", sheet_name=\"hedge_fund_series\", index_col=0)\n",
    "fund_ret.head()"
   ]
  },
  {
   "cell_type": "code",
   "execution_count": 189,
   "metadata": {},
   "outputs": [
    {
     "data": {
      "text/html": [
       "<div>\n",
       "<style scoped>\n",
       "    .dataframe tbody tr th:only-of-type {\n",
       "        vertical-align: middle;\n",
       "    }\n",
       "\n",
       "    .dataframe tbody tr th {\n",
       "        vertical-align: top;\n",
       "    }\n",
       "\n",
       "    .dataframe thead th {\n",
       "        text-align: right;\n",
       "    }\n",
       "</style>\n",
       "<table border=\"1\" class=\"dataframe\">\n",
       "  <thead>\n",
       "    <tr style=\"text-align: right;\">\n",
       "      <th></th>\n",
       "      <th>SPY US Equity</th>\n",
       "      <th>USGG3M Index</th>\n",
       "      <th>EEM US Equity</th>\n",
       "      <th>EFA US Equity</th>\n",
       "      <th>EUO US Equity</th>\n",
       "      <th>IWM US Equity</th>\n",
       "    </tr>\n",
       "  </thead>\n",
       "  <tbody>\n",
       "    <tr>\n",
       "      <th>2011-08-31</th>\n",
       "      <td>-0.054976</td>\n",
       "      <td>0.000009</td>\n",
       "      <td>-0.092549</td>\n",
       "      <td>-0.087549</td>\n",
       "      <td>-0.005889</td>\n",
       "      <td>-0.088915</td>\n",
       "    </tr>\n",
       "    <tr>\n",
       "      <th>2011-09-30</th>\n",
       "      <td>-0.069421</td>\n",
       "      <td>0.000017</td>\n",
       "      <td>-0.179066</td>\n",
       "      <td>-0.108084</td>\n",
       "      <td>0.142180</td>\n",
       "      <td>-0.111504</td>\n",
       "    </tr>\n",
       "    <tr>\n",
       "      <th>2011-10-31</th>\n",
       "      <td>0.109148</td>\n",
       "      <td>-0.000013</td>\n",
       "      <td>0.162989</td>\n",
       "      <td>0.096276</td>\n",
       "      <td>-0.069502</td>\n",
       "      <td>0.151010</td>\n",
       "    </tr>\n",
       "    <tr>\n",
       "      <th>2011-11-30</th>\n",
       "      <td>-0.004064</td>\n",
       "      <td>0.000000</td>\n",
       "      <td>-0.019724</td>\n",
       "      <td>-0.021763</td>\n",
       "      <td>0.054627</td>\n",
       "      <td>-0.003782</td>\n",
       "    </tr>\n",
       "    <tr>\n",
       "      <th>2011-12-31</th>\n",
       "      <td>0.010449</td>\n",
       "      <td>0.000009</td>\n",
       "      <td>-0.042648</td>\n",
       "      <td>-0.021746</td>\n",
       "      <td>0.075581</td>\n",
       "      <td>0.005144</td>\n",
       "    </tr>\n",
       "  </tbody>\n",
       "</table>\n",
       "</div>"
      ],
      "text/plain": [
       "            SPY US Equity  USGG3M Index  EEM US Equity  EFA US Equity  \\\n",
       "2011-08-31      -0.054976      0.000009      -0.092549      -0.087549   \n",
       "2011-09-30      -0.069421      0.000017      -0.179066      -0.108084   \n",
       "2011-10-31       0.109148     -0.000013       0.162989       0.096276   \n",
       "2011-11-30      -0.004064      0.000000      -0.019724      -0.021763   \n",
       "2011-12-31       0.010449      0.000009      -0.042648      -0.021746   \n",
       "\n",
       "            EUO US Equity  IWM US Equity  \n",
       "2011-08-31      -0.005889      -0.088915  \n",
       "2011-09-30       0.142180      -0.111504  \n",
       "2011-10-31      -0.069502       0.151010  \n",
       "2011-11-30       0.054627      -0.003782  \n",
       "2011-12-31       0.075581       0.005144  "
      ]
     },
     "execution_count": 189,
     "metadata": {},
     "output_type": "execute_result"
    }
   ],
   "source": [
    "factor_ret = pd.read_excel(\n",
    "    \"../data/proshares_analysis_data.xlsx\", sheet_name=\"merrill_factors\", index_col=0)\n",
    "factor_ret.head()"
   ]
  },
  {
   "cell_type": "markdown",
   "metadata": {},
   "source": [
    "### Functions"
   ]
  },
  {
   "cell_type": "code",
   "execution_count": 376,
   "metadata": {},
   "outputs": [],
   "source": [
    "def summary_stat(df, annual_factor=12):\n",
    "    '''summary assets' mean return, voaltility(stdev) and sharpe ratio'''\n",
    "    result = pd.DataFrame()\n",
    "    result[\"mean\"] = df.mean() * annual_factor\n",
    "    result[\"volatility\"] = df.std() * np.sqrt(annual_factor)\n",
    "    result[\"Sharpe Ratio\"] = result[\"mean\"]/result[\"volatility\"]\n",
    "    return result\n",
    "\n",
    "\n",
    "def cal_moments(df, annual_factor=12, excess=True, style=True):\n",
    "    '''cal higher moments of assets returns'''\n",
    "    result = pd.DataFrame(columns=[\"ret\", \"vol\", \"skewness\", \"kurtosis\"])\n",
    "    result[\"ret\"] = df.mean() * annual_factor\n",
    "    result[\"vol\"] = df.std() * np.sqrt(annual_factor)\n",
    "    # you don't neet to annualize higher moments\n",
    "    result['skewness'] = df.skew()\n",
    "    result['kurtosis'] = df.kurtosis()\n",
    "    result['excess kurtosis'] = result['kurtosis'] - 3\n",
    "\n",
    "    if excess:\n",
    "        result = result[['ret', 'vol', 'skewness', 'excess kurtosis']].copy()\n",
    "        if style:\n",
    "            result = result.style.format(\n",
    "                {'ret': '{:.2%}', 'vol': '{:.2%}', 'skewness': '{:.2f}', 'excess kurtosis': '{:.2f}'})\n",
    "        return result\n",
    "    else:\n",
    "        result[['ret', 'vol', 'skewness', 'kurtosis']].copy()\n",
    "        if style:\n",
    "            result = result.style.format(\n",
    "                {'ret': '{:.2%}', 'vol': '{:.2%}', 'skewness': '{:.2f}', 'kurtosis': '{:.2f}'})\n",
    "        return result\n",
    "\n",
    "\n",
    "def cal_tail(df, quant=0.05, style=True):\n",
    "    result = pd.DataFrame()\n",
    "    # you don't neet to annualize higher moments\n",
    "    var_name = f'VaR ({quant})'\n",
    "    cvar_name = f'CVaR ({quant})'\n",
    "    result[var_name] = df.quantile(quant)\n",
    "    result[cvar_name] = df[df < df.quantile(quant)].mean()\n",
    "    if style:\n",
    "        result = result.style.format(\n",
    "            {var_name: \"{:.2%}\", cvar_name: \"{:.2%}\"})\n",
    "    return result\n",
    "\n",
    "\n",
    "def cal_series_max_drawdown(series):\n",
    "    cum_ret = (series + 1).cumprod()\n",
    "    cum_max = cum_ret.cummax()\n",
    "\n",
    "    max_ret = (cum_ret - cum_max)/cum_max\n",
    "    return max_ret\n",
    "\n",
    "\n",
    "def maximumDrawdown(df):\n",
    "    cum_returns = (1 + df).cumprod()\n",
    "    rolling_max = cum_returns.cummax()  # cummax function\n",
    "    drawdown = (cum_returns - rolling_max) / rolling_max\n",
    "\n",
    "    max_drawdown = drawdown.min()\n",
    "    end_date = drawdown.idxmin()\n",
    "    summary = pd.DataFrame(\n",
    "        {'Max Drawdown': max_drawdown, 'Bottom': end_date})\n",
    "\n",
    "    for col in drawdown:\n",
    "        summary.loc[col, 'Peak'] = (\n",
    "            rolling_max.loc[:end_date[col], col]).idxmax()\n",
    "        recovery_period = drawdown.loc[end_date[col]:, col]\n",
    "        try:\n",
    "            summary.loc[col,\n",
    "                        'Recover'] = recovery_period[recovery_period >= 0].index[0]\n",
    "        except:\n",
    "            summary.loc[col, 'Recover'] = None\n",
    "\n",
    "        summary['Peak'] = pd.to_datetime(summary['Peak'])\n",
    "        summary[\"Duration (to Bottom)\"] = summary['Bottom'] - summary[\"Peak\"]\n",
    "        summary['Duration (to Recover)'] = summary['Recover'] - summary['Peak']\n",
    "        summary.style.format({\"Max Drawdown\": \"{:.2%}\"})\n",
    "    return summary\n",
    "\n",
    "\n",
    "def tailMetrics(returns, quantile=.05, relative=False, mdd=True):\n",
    "    metrics = pd.DataFrame(index=returns.columns)\n",
    "    metrics['Skewness'] = returns.skew()\n",
    "    metrics['Excess Kurtosis'] = returns.kurtosis()\n",
    "\n",
    "    VaR = returns.quantile(quantile)\n",
    "    CVaR = (returns[returns < returns.quantile(quantile)]).mean()\n",
    "\n",
    "    if relative:\n",
    "        VaR /= returns.std()\n",
    "        CVaR /= returns.std()\n",
    "\n",
    "    metrics[f'VaR ({quantile})'] = VaR\n",
    "    metrics[f'CVaR ({quantile})'] = CVaR\n",
    "\n",
    "    if mdd:\n",
    "        mdd_stats = maximumDrawdown(returns)\n",
    "        metrics = metrics.join(mdd_stats)\n",
    "\n",
    "        if relative:\n",
    "            metrics['Max Drawdown'] /= returns.std()\n",
    "    return metrics\n",
    "\n"
   ]
  },
  {
   "cell_type": "code",
   "execution_count": 222,
   "metadata": {},
   "outputs": [],
   "source": [
    "def get_ols_result(regressor, targets, annualization=12, ignorenan=True):\n",
    "    result = pd.DataFrame(\n",
    "        columns=[\"Market Beta\", \"Treynor Ratio\", \"Info Ratio\"], index=targets.columns)\n",
    "    for ind in targets.columns:\n",
    "        data = pd.merge(\n",
    "            regressor, targets[[ind]], how=\"inner\", left_index=True, right_index=True)\n",
    "        X = data[regressor.columns]\n",
    "        y = data[ind]\n",
    "        model = LinearRegression().fit(X, y)\n",
    "        yfit = model.predict(X)\n",
    "        residuals = y - yfit\n",
    "\n",
    "        # result.loc[ind, \"Alpha\"] = model.intercept_ * annualization\n",
    "        result.loc[ind, \"Market Beta\"] = model.coef_[0]\n",
    "        result.loc[ind, \"Treynor Ratio\"] = (\n",
    "            y.mean()/model.coef_[0]) * annualization\n",
    "        result.loc[ind, \"Info Ratio\"] = (\n",
    "            model.intercept_ / residuals.std()) * np.sqrt(annualization)\n",
    "\n",
    "    return result\n",
    "\n",
    "def get_ols_metrics(regressors, targets, annualization=1, ignorenan=True):\n",
    "    # ensure regressors and targets are pandas dataframes, as expected\n",
    "    if not isinstance(regressors, pd.DataFrame):\n",
    "        regressors = regressors.to_frame()\n",
    "    if not isinstance(targets, pd.DataFrame):\n",
    "        targets = targets.to_frame()\n",
    "\n",
    "    # align the targets and regressors on the same dates\n",
    "    df_aligned = targets.join(regressors, how='inner', lsuffix='y ')\n",
    "    Y = df_aligned[targets.columns]\n",
    "    Xset = df_aligned[regressors.columns]\n",
    "\n",
    "    reg = pd.DataFrame(index=targets.columns)\n",
    "    for col in Y.columns:\n",
    "        y = Y[col]\n",
    "        \n",
    "        if ignorenan:\n",
    "            # ensure we use only non-NaN dates\n",
    "            alldata = Xset.join(y)\n",
    "            mask = alldata.notnull().all(axis=1)\n",
    "            y = y[mask]\n",
    "            X = Xset[mask]\n",
    "        else:\n",
    "            X = Xset\n",
    "\n",
    "        model = LinearRegression().fit(X, y)\n",
    "        reg.loc[col, 'alpha'] = model.intercept_ * annualization\n",
    "        reg.loc[col, regressors.columns] = model.coef_\n",
    "        reg.loc[col, 'r-squared'] = model.score(X, y)\n",
    "\n",
    "        # sklearn does not return the residuals, so we need to build them\n",
    "        yfit = model.predict(X)\n",
    "        residuals = y - yfit\n",
    "\n",
    "        # Treynor Ratio is only defined for univariate regression\n",
    "        if Xset.shape[1] == 1:\n",
    "            reg.loc[col,'Treynor Ratio'] = (y.mean() / model.coef_) * annualization\n",
    "\n",
    "        \n",
    "        # if intercept =0, numerical roundoff will nonetheless show nonzero Info Ratio\n",
    "        num_roundoff = 1e-12\n",
    "        if np.abs(model.intercept_) < num_roundoff:\n",
    "            reg.loc[col, 'Info Ratio'] = None\n",
    "        else:\n",
    "            reg.loc[col, 'Info Ratio'] = (model.intercept_ / residuals.std()) * np.sqrt(annualization)\n",
    "\n",
    "    return reg"
   ]
  },
  {
   "cell_type": "code",
   "execution_count": 373,
   "metadata": {},
   "outputs": [],
   "source": [
    "def reg_factor(target, factors, annual_factor=12, err_std=True, intercept=True):\n",
    "\n",
    "    col_name = np.insert(factors.columns, 0, \"alpha\")\n",
    "    col_name = np.append(col_name, \"R-square\")\n",
    "    if err_std:\n",
    "        col_name = np.append(col_name, \"err_std\")\n",
    "    result = pd.DataFrame(columns=col_name, index=target.columns)\n",
    "\n",
    "    for ind in target.columns:\n",
    "        y = target[ind]\n",
    "        X = factors\n",
    "        if intercept:\n",
    "            model = LinearRegression().fit(X, y)\n",
    "\n",
    "\n",
    "            yfit = model.predict(X)\n",
    "            residuals = y - yfit\n",
    "\n",
    "            _paras = np.insert(model.coef_, 0, model.intercept_ * annual_factor)\n",
    "            score = model.score(X, y)\n",
    "            _paras = np.append(_paras, score)\n",
    "        else:\n",
    "            model = LinearRegression(fit_intercept=False)\n",
    "            model = model.fit(X, y)\n",
    "            score = model.score(X, y)\n",
    "            yfit = model.predict(X)\n",
    "            residuals = y - yfit\n",
    "\n",
    "            _paras = np.insert(model.coef_, 0, np.nan)\n",
    "            _paras = np.append(_paras, score)\n",
    "\n",
    "        if err_std:\n",
    "            res_std = residuals.std() * np.sqrt(annual_factor)\n",
    "            _paras = np.append(_paras, res_std)\n",
    "\n",
    "        result.loc[ind, :] = _paras\n",
    "    return result"
   ]
  },
  {
   "cell_type": "code",
   "execution_count": 367,
   "metadata": {},
   "outputs": [],
   "source": [
    "def rolling_estimation(target, factors, breakpoint, intercept=True):\n",
    "    length = target.shape[0]\n",
    "\n",
    "    result = target.iloc[breakpoint:, :].copy()\n",
    "    y_hat = []\n",
    "    for i in range(breakpoint, length):\n",
    "        y = target.iloc[i-breakpoint:i, :]\n",
    "        X = factors.iloc[i-breakpoint:i, :]\n",
    "\n",
    "        if intercept:\n",
    "\n",
    "            model = LinearRegression().fit(X, y)\n",
    "            _paras = _paras = np.insert(model.coef_, 0, model.intercept_)\n",
    "\n",
    "            x_tilde = factors.values[i, :]\n",
    "            y_fit = np.sum(_paras * np.insert(x_tilde, 0, 1))\n",
    "        \n",
    "        else:\n",
    "            model = LinearRegression(fit_intercept=False)\n",
    "            model = model.fit(X, y)\n",
    "            y_fit = np.sum(model.coef_ * factors.values[i, :])\n",
    "\n",
    "        y_hat.append(y_fit)\n",
    "    col_name = target.columns[0] + \"_predict\"\n",
    "    result.loc[:, col_name] = y_hat\n",
    "    return result\n"
   ]
  },
  {
   "cell_type": "markdown",
   "metadata": {},
   "source": [
    "### Constant"
   ]
  },
  {
   "cell_type": "code",
   "execution_count": 115,
   "metadata": {},
   "outputs": [],
   "source": [
    "annual_factor = 12\n",
    "num_round = 2"
   ]
  },
  {
   "cell_type": "markdown",
   "metadata": {},
   "source": [
    "### 1. For the series in the “hedge fund series” tab, report the following summary statistics:\n",
    "1. mean\n",
    "2. volatility\n",
    "3. Sharpe ratio"
   ]
  },
  {
   "cell_type": "code",
   "execution_count": 169,
   "metadata": {},
   "outputs": [
    {
     "data": {
      "text/html": [
       "<div>\n",
       "<style scoped>\n",
       "    .dataframe tbody tr th:only-of-type {\n",
       "        vertical-align: middle;\n",
       "    }\n",
       "\n",
       "    .dataframe tbody tr th {\n",
       "        vertical-align: top;\n",
       "    }\n",
       "\n",
       "    .dataframe thead th {\n",
       "        text-align: right;\n",
       "    }\n",
       "</style>\n",
       "<table border=\"1\" class=\"dataframe\">\n",
       "  <thead>\n",
       "    <tr style=\"text-align: right;\">\n",
       "      <th></th>\n",
       "      <th>mean</th>\n",
       "      <th>volatility</th>\n",
       "      <th>Sharpe Ratio</th>\n",
       "    </tr>\n",
       "  </thead>\n",
       "  <tbody>\n",
       "    <tr>\n",
       "      <th>HFRIFWI Index</th>\n",
       "      <td>0.042867</td>\n",
       "      <td>0.060912</td>\n",
       "      <td>0.703758</td>\n",
       "    </tr>\n",
       "    <tr>\n",
       "      <th>MLEIFCTR Index</th>\n",
       "      <td>0.025665</td>\n",
       "      <td>0.056867</td>\n",
       "      <td>0.451308</td>\n",
       "    </tr>\n",
       "    <tr>\n",
       "      <th>MLEIFCTX Index</th>\n",
       "      <td>0.024278</td>\n",
       "      <td>0.056685</td>\n",
       "      <td>0.428294</td>\n",
       "    </tr>\n",
       "    <tr>\n",
       "      <th>HDG US Equity</th>\n",
       "      <td>0.014007</td>\n",
       "      <td>0.059239</td>\n",
       "      <td>0.236455</td>\n",
       "    </tr>\n",
       "    <tr>\n",
       "      <th>QAI US Equity</th>\n",
       "      <td>0.011576</td>\n",
       "      <td>0.048915</td>\n",
       "      <td>0.236649</td>\n",
       "    </tr>\n",
       "  </tbody>\n",
       "</table>\n",
       "</div>"
      ],
      "text/plain": [
       "                    mean  volatility  Sharpe Ratio\n",
       "HFRIFWI Index   0.042867    0.060912      0.703758\n",
       "MLEIFCTR Index  0.025665    0.056867      0.451308\n",
       "MLEIFCTX Index  0.024278    0.056685      0.428294\n",
       "HDG US Equity   0.014007    0.059239      0.236455\n",
       "QAI US Equity   0.011576    0.048915      0.236649"
      ]
     },
     "execution_count": 169,
     "metadata": {},
     "output_type": "execute_result"
    }
   ],
   "source": [
    "summary_stat(fund_ret, annual_factor)"
   ]
  },
  {
   "cell_type": "markdown",
   "metadata": {},
   "source": [
    "### 2. For the series in the “hedge fund series” tab,  calculate the following statistics related to tail- risk.\n",
    "* Skewness\n",
    "* Excess Kurtosis (in excess of 3)\n",
    "* VaR (.05) - the fifth quantile of historic returns\n",
    "* CVaR (.05) - the mean of the returns at or below the fifth quantile\n",
    "* Maximum drawdown-include the dates of the max/min/recovery within the max drawdown period."
   ]
  },
  {
   "cell_type": "code",
   "execution_count": 377,
   "metadata": {},
   "outputs": [
    {
     "data": {
      "text/html": [
       "<div>\n",
       "<style scoped>\n",
       "    .dataframe tbody tr th:only-of-type {\n",
       "        vertical-align: middle;\n",
       "    }\n",
       "\n",
       "    .dataframe tbody tr th {\n",
       "        vertical-align: top;\n",
       "    }\n",
       "\n",
       "    .dataframe thead th {\n",
       "        text-align: right;\n",
       "    }\n",
       "</style>\n",
       "<table border=\"1\" class=\"dataframe\">\n",
       "  <thead>\n",
       "    <tr style=\"text-align: right;\">\n",
       "      <th></th>\n",
       "      <th>Skewness</th>\n",
       "      <th>Excess Kurtosis</th>\n",
       "      <th>VaR (0.05)</th>\n",
       "      <th>CVaR (0.05)</th>\n",
       "      <th>Max Drawdown</th>\n",
       "      <th>Bottom</th>\n",
       "      <th>Peak</th>\n",
       "      <th>Recover</th>\n",
       "      <th>Duration (to Bottom)</th>\n",
       "      <th>Duration (to Recover)</th>\n",
       "    </tr>\n",
       "  </thead>\n",
       "  <tbody>\n",
       "    <tr>\n",
       "      <th>HFRIFWI Index</th>\n",
       "      <td>-1.020683</td>\n",
       "      <td>6.163102</td>\n",
       "      <td>-0.025585</td>\n",
       "      <td>-0.039205</td>\n",
       "      <td>-0.115473</td>\n",
       "      <td>2020-03-31</td>\n",
       "      <td>2019-12-31</td>\n",
       "      <td>2020-08-31</td>\n",
       "      <td>91 days</td>\n",
       "      <td>244 days</td>\n",
       "    </tr>\n",
       "    <tr>\n",
       "      <th>MLEIFCTR Index</th>\n",
       "      <td>-0.315513</td>\n",
       "      <td>1.778696</td>\n",
       "      <td>-0.029652</td>\n",
       "      <td>-0.036865</td>\n",
       "      <td>-0.124302</td>\n",
       "      <td>2022-09-30</td>\n",
       "      <td>2021-06-30</td>\n",
       "      <td>NaT</td>\n",
       "      <td>457 days</td>\n",
       "      <td>NaT</td>\n",
       "    </tr>\n",
       "    <tr>\n",
       "      <th>MLEIFCTX Index</th>\n",
       "      <td>-0.304807</td>\n",
       "      <td>1.741807</td>\n",
       "      <td>-0.029867</td>\n",
       "      <td>-0.036763</td>\n",
       "      <td>-0.124388</td>\n",
       "      <td>2022-09-30</td>\n",
       "      <td>2021-06-30</td>\n",
       "      <td>NaT</td>\n",
       "      <td>457 days</td>\n",
       "      <td>NaT</td>\n",
       "    </tr>\n",
       "    <tr>\n",
       "      <th>HDG US Equity</th>\n",
       "      <td>-0.298573</td>\n",
       "      <td>1.931106</td>\n",
       "      <td>-0.031528</td>\n",
       "      <td>-0.038482</td>\n",
       "      <td>-0.140720</td>\n",
       "      <td>2022-09-30</td>\n",
       "      <td>2021-06-30</td>\n",
       "      <td>NaT</td>\n",
       "      <td>457 days</td>\n",
       "      <td>NaT</td>\n",
       "    </tr>\n",
       "    <tr>\n",
       "      <th>QAI US Equity</th>\n",
       "      <td>-0.634129</td>\n",
       "      <td>1.913339</td>\n",
       "      <td>-0.021245</td>\n",
       "      <td>-0.034401</td>\n",
       "      <td>-0.137714</td>\n",
       "      <td>2022-09-30</td>\n",
       "      <td>2021-06-30</td>\n",
       "      <td>NaT</td>\n",
       "      <td>457 days</td>\n",
       "      <td>NaT</td>\n",
       "    </tr>\n",
       "  </tbody>\n",
       "</table>\n",
       "</div>"
      ],
      "text/plain": [
       "                Skewness  Excess Kurtosis  VaR (0.05)  CVaR (0.05)  \\\n",
       "HFRIFWI Index  -1.020683         6.163102   -0.025585    -0.039205   \n",
       "MLEIFCTR Index -0.315513         1.778696   -0.029652    -0.036865   \n",
       "MLEIFCTX Index -0.304807         1.741807   -0.029867    -0.036763   \n",
       "HDG US Equity  -0.298573         1.931106   -0.031528    -0.038482   \n",
       "QAI US Equity  -0.634129         1.913339   -0.021245    -0.034401   \n",
       "\n",
       "                Max Drawdown     Bottom       Peak    Recover  \\\n",
       "HFRIFWI Index      -0.115473 2020-03-31 2019-12-31 2020-08-31   \n",
       "MLEIFCTR Index     -0.124302 2022-09-30 2021-06-30        NaT   \n",
       "MLEIFCTX Index     -0.124388 2022-09-30 2021-06-30        NaT   \n",
       "HDG US Equity      -0.140720 2022-09-30 2021-06-30        NaT   \n",
       "QAI US Equity      -0.137714 2022-09-30 2021-06-30        NaT   \n",
       "\n",
       "               Duration (to Bottom) Duration (to Recover)  \n",
       "HFRIFWI Index               91 days              244 days  \n",
       "MLEIFCTR Index             457 days                   NaT  \n",
       "MLEIFCTX Index             457 days                   NaT  \n",
       "HDG US Equity              457 days                   NaT  \n",
       "QAI US Equity              457 days                   NaT  "
      ]
     },
     "execution_count": 377,
     "metadata": {},
     "output_type": "execute_result"
    }
   ],
   "source": [
    "tailMetrics(fund_ret)"
   ]
  },
  {
   "cell_type": "markdown",
   "metadata": {},
   "source": [
    "\n",
    "### 3. For the series in the “hedge fund series” tab, run a regression of each against SPY (found in the “merrill factors” tab.) Include an intercept. Report the following regression-based statistics:\n",
    "\n",
    "* (a) Market Beta \n",
    "* (b) Treynor Ratio\n",
    "\n",
    "$$\\text{Treynor Ratio} \\equiv \\frac{\\tilde\\mu}{\\beta}$$\n",
    "\n",
    "* (c) Information ratio\n",
    "\n",
    "$$\\text{Information Ratio} \\equiv \\frac{\\alpha}{\\sigma_\\epsilon}$$\n",
    "\n",
    "Annualize these three statistics as appropriate.\n"
   ]
  },
  {
   "cell_type": "code",
   "execution_count": 221,
   "metadata": {},
   "outputs": [
    {
     "data": {
      "text/html": [
       "<div>\n",
       "<style scoped>\n",
       "    .dataframe tbody tr th:only-of-type {\n",
       "        vertical-align: middle;\n",
       "    }\n",
       "\n",
       "    .dataframe tbody tr th {\n",
       "        vertical-align: top;\n",
       "    }\n",
       "\n",
       "    .dataframe thead th {\n",
       "        text-align: right;\n",
       "    }\n",
       "</style>\n",
       "<table border=\"1\" class=\"dataframe\">\n",
       "  <thead>\n",
       "    <tr style=\"text-align: right;\">\n",
       "      <th></th>\n",
       "      <th>Market Beta</th>\n",
       "      <th>Treynor Ratio</th>\n",
       "      <th>Info Ratio</th>\n",
       "    </tr>\n",
       "  </thead>\n",
       "  <tbody>\n",
       "    <tr>\n",
       "      <th>HFRIFWI Index</th>\n",
       "      <td>0.349957</td>\n",
       "      <td>0.122493</td>\n",
       "      <td>0.012954</td>\n",
       "    </tr>\n",
       "    <tr>\n",
       "      <th>MLEIFCTR Index</th>\n",
       "      <td>0.354876</td>\n",
       "      <td>0.07232</td>\n",
       "      <td>-0.731515</td>\n",
       "    </tr>\n",
       "    <tr>\n",
       "      <th>MLEIFCTX Index</th>\n",
       "      <td>0.353605</td>\n",
       "      <td>0.068658</td>\n",
       "      <td>-0.784565</td>\n",
       "    </tr>\n",
       "    <tr>\n",
       "      <th>HDG US Equity</th>\n",
       "      <td>0.363099</td>\n",
       "      <td>0.038577</td>\n",
       "      <td>-1.123684</td>\n",
       "    </tr>\n",
       "    <tr>\n",
       "      <th>QAI US Equity</th>\n",
       "      <td>0.291895</td>\n",
       "      <td>0.039657</td>\n",
       "      <td>-0.983817</td>\n",
       "    </tr>\n",
       "  </tbody>\n",
       "</table>\n",
       "</div>"
      ],
      "text/plain": [
       "               Market Beta Treynor Ratio Info Ratio\n",
       "HFRIFWI Index     0.349957      0.122493   0.012954\n",
       "MLEIFCTR Index    0.354876       0.07232  -0.731515\n",
       "MLEIFCTX Index    0.353605      0.068658  -0.784565\n",
       "HDG US Equity     0.363099      0.038577  -1.123684\n",
       "QAI US Equity     0.291895      0.039657  -0.983817"
      ]
     },
     "execution_count": 221,
     "metadata": {},
     "output_type": "execute_result"
    }
   ],
   "source": [
    "get_ols_result(factor_ret[[\"SPY US Equity\"]], fund_ret, annualization=12)"
   ]
  },
  {
   "cell_type": "markdown",
   "metadata": {},
   "source": [
    "### 4. Relative Performance\n",
    "Discuss the previous statistics, and what they tell us about...\n",
    "* (a) the differences between SPY and the hedge-fund series? \n",
    "\n",
    "    * SPY has been a rocket during this time, Hedge-funds (as measured by these broad indexes) have underperformed.\n",
    "    * Given that they have some SPY beta, their total return is positive (Sharpe is positive) but when we strip this factor out, the hedged performance has a negative Sharpe ratio as seen by the Info Ratio (which is the Sharpe Ratio of the hedged position.)\n",
    "    * HFRI is much less volatile and a much lower trend.\n",
    "    * But maybe the scaling here is hiding how similar they are. Let's re-plot them, adjusting the scales. And we see they are *very* similar!\n"
   ]
  },
  {
   "cell_type": "code",
   "execution_count": 249,
   "metadata": {},
   "outputs": [
    {
     "data": {
      "text/plain": [
       "<matplotlib.axes._subplots.AxesSubplot at 0x7f9dd1690290>"
      ]
     },
     "execution_count": 249,
     "metadata": {},
     "output_type": "execute_result"
    },
    {
     "data": {
      "image/png": "[encoded data removed]",
      "text/plain": [
       "<Figure size 720x360 with 1 Axes>"
      ]
     },
     "metadata": {
      "needs_background": "light"
     },
     "output_type": "display_data"
    }
   ],
   "source": [
    "pair = pd.merge(fund_ret[\"HFRIFWI Index\"], factor_ret[\"SPY US Equity\"], how=\"inner\", left_index=True, right_index=True)\n",
    "pair_cumprod = (pair + 1).cumprod()\n",
    "pair_cumprod.plot(figsize=(10, 5))"
   ]
  },
  {
   "cell_type": "code",
   "execution_count": 250,
   "metadata": {},
   "outputs": [
    {
     "data": {
      "image/png": "[encoded data removed]",
      "text/plain": [
       "<Figure size 720x360 with 2 Axes>"
      ]
     },
     "metadata": {
      "needs_background": "light"
     },
     "output_type": "display_data"
    }
   ],
   "source": [
    "# scaled plot\n",
    "fig, ax1 = plt.subplots(figsize=(10, 5))\n",
    "\n",
    "ax1.set_xlabel('Date')\n",
    "ax1.set_ylabel(pair_cumprod.columns[0])\n",
    "ax1.plot(pair_cumprod.index,\n",
    "         pair_cumprod.iloc[:, 0], color='b', label=pair_cumprod.columns[0])\n",
    "\n",
    "ax2 = ax1.twinx()\n",
    "ax2.set_ylabel(pair_cumprod.columns[1])\n",
    "ax2.plot(pair_cumprod.index,\n",
    "         pair_cumprod.iloc[:, 1], color='orange', label=pair_cumprod.columns[1])\n",
    "\n",
    "ax1.legend(loc='upper left')\n",
    "ax2.legend(loc='center left')\n",
    "plt.show()"
   ]
  },
  {
   "cell_type": "markdown",
   "metadata": {},
   "source": [
    "\n",
    "(a) the differences between SPY and the hedge-fund series? \n",
    "**Solution:**\n",
    "The SPY has a higher mean, volatility, and Sharpe Ratio than that of all hedge-fund series. Also, the SPY has higher tail risks in terms of VaR, and CVaR. Besides, all hedge-fund series have a negative information ratio, which indicates that they fail to beat the market. \n",
    "****\n",
    "(b) which performs better between HDG and QAI.\n",
    "\n",
    "**Solution:**\n",
    "Although HDG has a slightly higher mean return, it also has a higher volatility, so it has a smaller Sharpe Ratio than QAI. In addition, HDG contains more tail risks as it has higher VaR, CVaR, and Maximum Drawdown. The recovery period of HDG is also longer than that of QAI. QAI is also less correlated to the market(See the heat map below), and has a higher Treynor Ratio and Information Ratio. Overall, QAI performs better than HDG. \n",
    "****\n",
    "(c) whether HDG and the ML series capture the most notable properties of HFRI.\n",
    "\n",
    "**Solution:**\n",
    "Both HDG and the ML series fail to deliver the same high returns compendated with the high risk of HRFI. The HFRI also shows a very high excess kurtosis, but all of the hedge-fund series has a very small excess kurtosis. "
   ]
  },
  {
   "cell_type": "code",
   "execution_count": 242,
   "metadata": {},
   "outputs": [
    {
     "data": {
      "text/html": [
       "<div>\n",
       "<style scoped>\n",
       "    .dataframe tbody tr th:only-of-type {\n",
       "        vertical-align: middle;\n",
       "    }\n",
       "\n",
       "    .dataframe tbody tr th {\n",
       "        vertical-align: top;\n",
       "    }\n",
       "\n",
       "    .dataframe thead th {\n",
       "        text-align: right;\n",
       "    }\n",
       "</style>\n",
       "<table border=\"1\" class=\"dataframe\">\n",
       "  <thead>\n",
       "    <tr style=\"text-align: right;\">\n",
       "      <th></th>\n",
       "      <th>alpha</th>\n",
       "      <th>SPY US Equity</th>\n",
       "      <th>r-squared</th>\n",
       "      <th>Treynor Ratio</th>\n",
       "      <th>Info Ratio</th>\n",
       "    </tr>\n",
       "  </thead>\n",
       "  <tbody>\n",
       "    <tr>\n",
       "      <th>HDG US Equity</th>\n",
       "      <td>-0.030021</td>\n",
       "      <td>0.363099</td>\n",
       "      <td>0.796597</td>\n",
       "      <td>0.038577</td>\n",
       "      <td>-1.123684</td>\n",
       "    </tr>\n",
       "    <tr>\n",
       "      <th>QAI US Equity</th>\n",
       "      <td>-0.023819</td>\n",
       "      <td>0.291895</td>\n",
       "      <td>0.755027</td>\n",
       "      <td>0.039657</td>\n",
       "      <td>-0.983817</td>\n",
       "    </tr>\n",
       "  </tbody>\n",
       "</table>\n",
       "</div>"
      ],
      "text/plain": [
       "                  alpha  SPY US Equity  r-squared  Treynor Ratio  Info Ratio\n",
       "HDG US Equity -0.030021       0.363099   0.796597       0.038577   -1.123684\n",
       "QAI US Equity -0.023819       0.291895   0.755027       0.039657   -0.983817"
      ]
     },
     "execution_count": 242,
     "metadata": {},
     "output_type": "execute_result"
    }
   ],
   "source": [
    "matrix = get_ols_metrics(\n",
    "    factor_ret[[\"SPY US Equity\"]], fund_ret, annualization=12)\n",
    "compare_data = matrix.loc[[\"HDG US Equity\", \"QAI US Equity\"], ]\n",
    "compare_data"
   ]
  },
  {
   "cell_type": "code",
   "execution_count": 251,
   "metadata": {},
   "outputs": [
    {
     "data": {
      "text/plain": [
       "<matplotlib.axes._subplots.AxesSubplot at 0x7f9dd1773f50>"
      ]
     },
     "execution_count": 251,
     "metadata": {},
     "output_type": "execute_result"
    },
    {
     "data": {
      "image/png": "[encoded data removed]",
      "text/plain": [
       "<Figure size 720x360 with 1 Axes>"
      ]
     },
     "metadata": {
      "needs_background": "light"
     },
     "output_type": "display_data"
    }
   ],
   "source": [
    "properties_data = fund_ret[[\"HDG US Equity\",\n",
    "                            \"MLEIFCTR Index\", \"MLEIFCTX Index\", \"HFRIFWI Index\"]]\n",
    "properties_data = (properties_data + 1).cumprod()\n",
    "properties_data.plot(figsize=(10, 5))"
   ]
  },
  {
   "cell_type": "code",
   "execution_count": 259,
   "metadata": {},
   "outputs": [
    {
     "data": {
      "text/html": [
       "<div>\n",
       "<style scoped>\n",
       "    .dataframe tbody tr th:only-of-type {\n",
       "        vertical-align: middle;\n",
       "    }\n",
       "\n",
       "    .dataframe tbody tr th {\n",
       "        vertical-align: top;\n",
       "    }\n",
       "\n",
       "    .dataframe thead th {\n",
       "        text-align: right;\n",
       "    }\n",
       "</style>\n",
       "<table border=\"1\" class=\"dataframe\">\n",
       "  <thead>\n",
       "    <tr style=\"text-align: right;\">\n",
       "      <th></th>\n",
       "      <th>HDG US Equity</th>\n",
       "      <th>MLEIFCTR Index</th>\n",
       "      <th>MLEIFCTX Index</th>\n",
       "      <th>HFRIFWI Index</th>\n",
       "    </tr>\n",
       "  </thead>\n",
       "  <tbody>\n",
       "    <tr>\n",
       "      <th>HDG US Equity</th>\n",
       "      <td>1.0000</td>\n",
       "      <td>0.9920</td>\n",
       "      <td>0.9936</td>\n",
       "      <td>0.9717</td>\n",
       "    </tr>\n",
       "    <tr>\n",
       "      <th>MLEIFCTR Index</th>\n",
       "      <td>0.9920</td>\n",
       "      <td>1.0000</td>\n",
       "      <td>0.9999</td>\n",
       "      <td>0.9812</td>\n",
       "    </tr>\n",
       "    <tr>\n",
       "      <th>MLEIFCTX Index</th>\n",
       "      <td>0.9936</td>\n",
       "      <td>0.9999</td>\n",
       "      <td>1.0000</td>\n",
       "      <td>0.9824</td>\n",
       "    </tr>\n",
       "    <tr>\n",
       "      <th>HFRIFWI Index</th>\n",
       "      <td>0.9717</td>\n",
       "      <td>0.9812</td>\n",
       "      <td>0.9824</td>\n",
       "      <td>1.0000</td>\n",
       "    </tr>\n",
       "  </tbody>\n",
       "</table>\n",
       "</div>"
      ],
      "text/plain": [
       "                HDG US Equity  MLEIFCTR Index  MLEIFCTX Index  HFRIFWI Index\n",
       "HDG US Equity          1.0000          0.9920          0.9936         0.9717\n",
       "MLEIFCTR Index         0.9920          1.0000          0.9999         0.9812\n",
       "MLEIFCTX Index         0.9936          0.9999          1.0000         0.9824\n",
       "HFRIFWI Index          0.9717          0.9812          0.9824         1.0000"
      ]
     },
     "execution_count": 259,
     "metadata": {},
     "output_type": "execute_result"
    }
   ],
   "source": [
    "properties_data.corr().round(4)"
   ]
  },
  {
   "cell_type": "code",
   "execution_count": 267,
   "metadata": {},
   "outputs": [
    {
     "data": {
      "text/html": [
       "<table class=\"simpletable\">\n",
       "<caption>OLS Regression Results</caption>\n",
       "<tr>\n",
       "  <th>Dep. Variable:</th>      <td>HFRIFWI Index</td>  <th>  R-squared:         </th> <td>   0.987</td> \n",
       "</tr>\n",
       "<tr>\n",
       "  <th>Model:</th>                   <td>OLS</td>       <th>  Adj. R-squared:    </th> <td>   0.986</td> \n",
       "</tr>\n",
       "<tr>\n",
       "  <th>Method:</th>             <td>Least Squares</td>  <th>  F-statistic:       </th> <td>   3235.</td> \n",
       "</tr>\n",
       "<tr>\n",
       "  <th>Date:</th>             <td>Sun, 09 Oct 2022</td> <th>  Prob (F-statistic):</th> <td>6.78e-122</td>\n",
       "</tr>\n",
       "<tr>\n",
       "  <th>Time:</th>                 <td>22:34:39</td>     <th>  Log-Likelihood:    </th> <td>  316.28</td> \n",
       "</tr>\n",
       "<tr>\n",
       "  <th>No. Observations:</th>      <td>   134</td>      <th>  AIC:               </th> <td>  -624.6</td> \n",
       "</tr>\n",
       "<tr>\n",
       "  <th>Df Residuals:</th>          <td>   130</td>      <th>  BIC:               </th> <td>  -613.0</td> \n",
       "</tr>\n",
       "<tr>\n",
       "  <th>Df Model:</th>              <td>     3</td>      <th>                     </th>     <td> </td>    \n",
       "</tr>\n",
       "<tr>\n",
       "  <th>Covariance Type:</th>      <td>nonrobust</td>    <th>                     </th>     <td> </td>    \n",
       "</tr>\n",
       "</table>\n",
       "<table class=\"simpletable\">\n",
       "<tr>\n",
       "         <td></td>           <th>coef</th>     <th>std err</th>      <th>t</th>      <th>P>|t|</th>  <th>[0.025</th>    <th>0.975]</th>  \n",
       "</tr>\n",
       "<tr>\n",
       "  <th>const</th>          <td>   -0.1956</td> <td>    0.056</td> <td>   -3.481</td> <td> 0.001</td> <td>   -0.307</td> <td>   -0.084</td>\n",
       "</tr>\n",
       "<tr>\n",
       "  <th>HDG US Equity</th>  <td>   -3.6471</td> <td>    0.278</td> <td>  -13.126</td> <td> 0.000</td> <td>   -4.197</td> <td>   -3.097</td>\n",
       "</tr>\n",
       "<tr>\n",
       "  <th>MLEIFCTR Index</th> <td>  -17.3633</td> <td>    1.234</td> <td>  -14.068</td> <td> 0.000</td> <td>  -19.805</td> <td>  -14.921</td>\n",
       "</tr>\n",
       "<tr>\n",
       "  <th>MLEIFCTX Index</th> <td>   22.1941</td> <td>    1.447</td> <td>   15.333</td> <td> 0.000</td> <td>   19.331</td> <td>   25.058</td>\n",
       "</tr>\n",
       "</table>\n",
       "<table class=\"simpletable\">\n",
       "<tr>\n",
       "  <th>Omnibus:</th>       <td>22.617</td> <th>  Durbin-Watson:     </th> <td>   0.517</td>\n",
       "</tr>\n",
       "<tr>\n",
       "  <th>Prob(Omnibus):</th> <td> 0.000</td> <th>  Jarque-Bera (JB):  </th> <td>  54.428</td>\n",
       "</tr>\n",
       "<tr>\n",
       "  <th>Skew:</th>          <td>-0.645</td> <th>  Prob(JB):          </th> <td>1.52e-12</td>\n",
       "</tr>\n",
       "<tr>\n",
       "  <th>Kurtosis:</th>      <td> 5.843</td> <th>  Cond. No.          </th> <td>2.15e+03</td>\n",
       "</tr>\n",
       "</table><br/><br/>Warnings:<br/>[1] Standard Errors assume that the covariance matrix of the errors is correctly specified.<br/>[2] The condition number is large, 2.15e+03. This might indicate that there are<br/>strong multicollinearity or other numerical problems."
      ],
      "text/plain": [
       "<class 'statsmodels.iolib.summary.Summary'>\n",
       "\"\"\"\n",
       "                            OLS Regression Results                            \n",
       "==============================================================================\n",
       "Dep. Variable:          HFRIFWI Index   R-squared:                       0.987\n",
       "Model:                            OLS   Adj. R-squared:                  0.986\n",
       "Method:                 Least Squares   F-statistic:                     3235.\n",
       "Date:                Sun, 09 Oct 2022   Prob (F-statistic):          6.78e-122\n",
       "Time:                        22:34:39   Log-Likelihood:                 316.28\n",
       "No. Observations:                 134   AIC:                            -624.6\n",
       "Df Residuals:                     130   BIC:                            -613.0\n",
       "Df Model:                           3                                         \n",
       "Covariance Type:            nonrobust                                         \n",
       "==================================================================================\n",
       "                     coef    std err          t      P>|t|      [0.025      0.975]\n",
       "----------------------------------------------------------------------------------\n",
       "const             -0.1956      0.056     -3.481      0.001      -0.307      -0.084\n",
       "HDG US Equity     -3.6471      0.278    -13.126      0.000      -4.197      -3.097\n",
       "MLEIFCTR Index   -17.3633      1.234    -14.068      0.000     -19.805     -14.921\n",
       "MLEIFCTX Index    22.1941      1.447     15.333      0.000      19.331      25.058\n",
       "==============================================================================\n",
       "Omnibus:                       22.617   Durbin-Watson:                   0.517\n",
       "Prob(Omnibus):                  0.000   Jarque-Bera (JB):               54.428\n",
       "Skew:                          -0.645   Prob(JB):                     1.52e-12\n",
       "Kurtosis:                       5.843   Cond. No.                     2.15e+03\n",
       "==============================================================================\n",
       "\n",
       "Warnings:\n",
       "[1] Standard Errors assume that the covariance matrix of the errors is correctly specified.\n",
       "[2] The condition number is large, 2.15e+03. This might indicate that there are\n",
       "strong multicollinearity or other numerical problems.\n",
       "\"\"\""
      ]
     },
     "execution_count": 267,
     "metadata": {},
     "output_type": "execute_result"
    }
   ],
   "source": [
    "# run regression\n",
    "y = properties_data[\"HFRIFWI Index\"]\n",
    "X = properties_data[[\"HDG US Equity\", \"MLEIFCTR Index\", \"MLEIFCTX Index\"]]\n",
    "X = sm.add_constant(X)\n",
    "\n",
    "static_model = sm.OLS(y, X).fit()\n",
    "static_model.summary()"
   ]
  },
  {
   "cell_type": "markdown",
   "metadata": {},
   "source": [
    "\n",
    "### 5. Report the correlation matrix for these assets.\n",
    "* (a) Show the correlations as a heat map.\n",
    "* (b) Which series have the highest and lowest correlations?\n",
    "    - **QAI** and **HFRI** pair has the lowest correlation, and **HDG** and both 2 **ML series** have the highest correlation. "
   ]
  },
  {
   "cell_type": "code",
   "execution_count": 262,
   "metadata": {},
   "outputs": [
    {
     "data": {
      "text/plain": [
       "<matplotlib.axes._subplots.AxesSubplot at 0x7f9dd20d81d0>"
      ]
     },
     "execution_count": 262,
     "metadata": {},
     "output_type": "execute_result"
    },
    {
     "data": {
      "image/png": "[encoded data removed]",
      "text/plain": [
       "<Figure size 576x432 with 2 Axes>"
      ]
     },
     "metadata": {
      "needs_background": "light"
     },
     "output_type": "display_data"
    }
   ],
   "source": [
    "corr_matrix = fund_ret.corr()\n",
    "fig, ax = plt.subplots(figsize=(8, 6))\n",
    "sns.heatmap(corr_matrix, annot=True)"
   ]
  },
  {
   "cell_type": "markdown",
   "metadata": {},
   "source": [
    "### 6. Replicate HFRI with the six factors listed on the “merrill factors” tab. Include a constant, and run the unrestricted regression\n",
    "\n",
    "$$r^{hfri}_t = α^{merr} + x^{merr}_tβ^{merr} + ε^{merr}$$\n",
    "$$\\hat r^{hfri}_t \\equiv \\hat \\alpha^{merr} + x^{merr}_t\\hat \\beta^{merr}$$\n",
    "\n",
    "Note that the second equation is just our notation for the fitted replication.\n",
    "\n",
    "* (a) Report the intercept and betas.\n"
   ]
  },
  {
   "cell_type": "code",
   "execution_count": 290,
   "metadata": {},
   "outputs": [
    {
     "data": {
      "text/html": [
       "<div>\n",
       "<style scoped>\n",
       "    .dataframe tbody tr th:only-of-type {\n",
       "        vertical-align: middle;\n",
       "    }\n",
       "\n",
       "    .dataframe tbody tr th {\n",
       "        vertical-align: top;\n",
       "    }\n",
       "\n",
       "    .dataframe thead th {\n",
       "        text-align: right;\n",
       "    }\n",
       "</style>\n",
       "<table border=\"1\" class=\"dataframe\">\n",
       "  <thead>\n",
       "    <tr style=\"text-align: right;\">\n",
       "      <th></th>\n",
       "      <th>alpha</th>\n",
       "      <th>SPY US Equity</th>\n",
       "      <th>USGG3M Index</th>\n",
       "      <th>EEM US Equity</th>\n",
       "      <th>EFA US Equity</th>\n",
       "      <th>EUO US Equity</th>\n",
       "      <th>IWM US Equity</th>\n",
       "      <th>R-square</th>\n",
       "      <th>err_std</th>\n",
       "    </tr>\n",
       "  </thead>\n",
       "  <tbody>\n",
       "    <tr>\n",
       "      <th>HFRIFWI Index</th>\n",
       "      <td>0.013703</td>\n",
       "      <td>0.025589</td>\n",
       "      <td>0.834569</td>\n",
       "      <td>0.074135</td>\n",
       "      <td>0.105604</td>\n",
       "      <td>0.02324</td>\n",
       "      <td>0.147375</td>\n",
       "      <td>0.821278</td>\n",
       "      <td>0.025751</td>\n",
       "    </tr>\n",
       "  </tbody>\n",
       "</table>\n",
       "</div>"
      ],
      "text/plain": [
       "                  alpha SPY US Equity USGG3M Index EEM US Equity  \\\n",
       "HFRIFWI Index  0.013703      0.025589     0.834569      0.074135   \n",
       "\n",
       "              EFA US Equity EUO US Equity IWM US Equity  R-square   err_std  \n",
       "HFRIFWI Index      0.105604       0.02324      0.147375  0.821278  0.025751  "
      ]
     },
     "execution_count": 290,
     "metadata": {},
     "output_type": "execute_result"
    }
   ],
   "source": [
    "reg_factor(fund_ret[[\"HFRIFWI Index\"]], factor_ret, annual_factor=12, err_std=True)"
   ]
  },
  {
   "cell_type": "markdown",
   "metadata": {},
   "source": [
    "* (b) Are the betas realistic position sizes, or do they require huge long-short positions?\n",
    "    - Yes, they are realistic position sizes, all betas are smaller than 1 and do not require huge long-short positions.\n",
    "****\n",
    "* (c) Report the R-squared.\n",
    "    - R-sqaured is reported above 0.82.\n",
    "****\n",
    "* (d) Report the volatility of $ε^{merr}$, (the tracking error.)\n",
    "    - the volatiliy of $ε^{merr}$ is 0.0258\n",
    "****"
   ]
  },
  {
   "cell_type": "markdown",
   "metadata": {},
   "source": [
    "### 7. Let’s examine the replication out-of-sample.\n",
    "Starting with t = 61 month of the sample, do the following:\n",
    "* Use the previous 60 months of data to estimate the regression equation. This gives time-t estimates of the regression parameters, $\\tilde α_t^{merr}$ and $\\tilde β_t^{merr}$\n",
    "* Use the estimated regression parameters, along with the time-t regressor values, xmerr, to t\n",
    "calculate the time-t replication value4 that is, with respect to the regression estimate, built “out-of-sample” (OOS).\n",
    "$$\\tilde r_t^{hfri} \\equiv \\tilde \\alpha_t^{merr} + (x_t^{merr})' \\beta_t^{merr}$$\n",
    "* Step forward to t = 62, and now use t = 2 through t = 61 for the estimation. Re-run the steps above, and continue this process throughout the data series. Thus, we are running a rolling, 60-month regression for each point-in-time.\n",
    "\n",
    "How well does the out-of-sample replication perform with respect to the target?"
   ]
  },
  {
   "cell_type": "code",
   "execution_count": 328,
   "metadata": {},
   "outputs": [
    {
     "name": "stderr",
     "output_type": "stream",
     "text": [
      "/Users/zhangzixin/opt/anaconda3/lib/python3.7/site-packages/statsmodels/tsa/tsatools.py:130: FutureWarning: In a future version of pandas all arguments of concat except for the argument 'objs' will be keyword-only\n",
      "  x = pd.concat(x[::order], 1)\n"
     ]
    },
    {
     "data": {
      "text/html": [
       "<div>\n",
       "<style scoped>\n",
       "    .dataframe tbody tr th:only-of-type {\n",
       "        vertical-align: middle;\n",
       "    }\n",
       "\n",
       "    .dataframe tbody tr th {\n",
       "        vertical-align: top;\n",
       "    }\n",
       "\n",
       "    .dataframe thead th {\n",
       "        text-align: right;\n",
       "    }\n",
       "</style>\n",
       "<table border=\"1\" class=\"dataframe\">\n",
       "  <thead>\n",
       "    <tr style=\"text-align: right;\">\n",
       "      <th></th>\n",
       "      <th>const</th>\n",
       "      <th>SPY US Equity</th>\n",
       "      <th>USGG3M Index</th>\n",
       "      <th>EEM US Equity</th>\n",
       "      <th>EFA US Equity</th>\n",
       "      <th>EUO US Equity</th>\n",
       "      <th>IWM US Equity</th>\n",
       "    </tr>\n",
       "  </thead>\n",
       "  <tbody>\n",
       "    <tr>\n",
       "      <th>2011-08-31</th>\n",
       "      <td>NaN</td>\n",
       "      <td>NaN</td>\n",
       "      <td>NaN</td>\n",
       "      <td>NaN</td>\n",
       "      <td>NaN</td>\n",
       "      <td>NaN</td>\n",
       "      <td>NaN</td>\n",
       "    </tr>\n",
       "    <tr>\n",
       "      <th>2011-09-30</th>\n",
       "      <td>NaN</td>\n",
       "      <td>NaN</td>\n",
       "      <td>NaN</td>\n",
       "      <td>NaN</td>\n",
       "      <td>NaN</td>\n",
       "      <td>NaN</td>\n",
       "      <td>NaN</td>\n",
       "    </tr>\n",
       "    <tr>\n",
       "      <th>2011-10-31</th>\n",
       "      <td>NaN</td>\n",
       "      <td>NaN</td>\n",
       "      <td>NaN</td>\n",
       "      <td>NaN</td>\n",
       "      <td>NaN</td>\n",
       "      <td>NaN</td>\n",
       "      <td>NaN</td>\n",
       "    </tr>\n",
       "    <tr>\n",
       "      <th>2011-11-30</th>\n",
       "      <td>NaN</td>\n",
       "      <td>NaN</td>\n",
       "      <td>NaN</td>\n",
       "      <td>NaN</td>\n",
       "      <td>NaN</td>\n",
       "      <td>NaN</td>\n",
       "      <td>NaN</td>\n",
       "    </tr>\n",
       "    <tr>\n",
       "      <th>2011-12-31</th>\n",
       "      <td>NaN</td>\n",
       "      <td>NaN</td>\n",
       "      <td>NaN</td>\n",
       "      <td>NaN</td>\n",
       "      <td>NaN</td>\n",
       "      <td>NaN</td>\n",
       "      <td>NaN</td>\n",
       "    </tr>\n",
       "    <tr>\n",
       "      <th>...</th>\n",
       "      <td>...</td>\n",
       "      <td>...</td>\n",
       "      <td>...</td>\n",
       "      <td>...</td>\n",
       "      <td>...</td>\n",
       "      <td>...</td>\n",
       "      <td>...</td>\n",
       "    </tr>\n",
       "    <tr>\n",
       "      <th>2022-05-31</th>\n",
       "      <td>0.004084</td>\n",
       "      <td>0.014981</td>\n",
       "      <td>-2.033076</td>\n",
       "      <td>0.108451</td>\n",
       "      <td>0.115181</td>\n",
       "      <td>0.033973</td>\n",
       "      <td>0.175357</td>\n",
       "    </tr>\n",
       "    <tr>\n",
       "      <th>2022-06-30</th>\n",
       "      <td>0.004204</td>\n",
       "      <td>0.011314</td>\n",
       "      <td>-2.009264</td>\n",
       "      <td>0.106422</td>\n",
       "      <td>0.111324</td>\n",
       "      <td>0.028605</td>\n",
       "      <td>0.181174</td>\n",
       "    </tr>\n",
       "    <tr>\n",
       "      <th>2022-07-31</th>\n",
       "      <td>0.004532</td>\n",
       "      <td>0.001035</td>\n",
       "      <td>-2.399443</td>\n",
       "      <td>0.118317</td>\n",
       "      <td>0.107350</td>\n",
       "      <td>0.020165</td>\n",
       "      <td>0.176503</td>\n",
       "    </tr>\n",
       "    <tr>\n",
       "      <th>2022-08-31</th>\n",
       "      <td>0.004210</td>\n",
       "      <td>-0.001067</td>\n",
       "      <td>-1.796845</td>\n",
       "      <td>0.128498</td>\n",
       "      <td>0.076688</td>\n",
       "      <td>0.018624</td>\n",
       "      <td>0.189947</td>\n",
       "    </tr>\n",
       "    <tr>\n",
       "      <th>2022-09-30</th>\n",
       "      <td>0.003941</td>\n",
       "      <td>-0.045773</td>\n",
       "      <td>-0.356888</td>\n",
       "      <td>0.086782</td>\n",
       "      <td>0.090389</td>\n",
       "      <td>0.005495</td>\n",
       "      <td>0.224953</td>\n",
       "    </tr>\n",
       "  </tbody>\n",
       "</table>\n",
       "<p>134 rows × 7 columns</p>\n",
       "</div>"
      ],
      "text/plain": [
       "               const  SPY US Equity  USGG3M Index  EEM US Equity  \\\n",
       "2011-08-31       NaN            NaN           NaN            NaN   \n",
       "2011-09-30       NaN            NaN           NaN            NaN   \n",
       "2011-10-31       NaN            NaN           NaN            NaN   \n",
       "2011-11-30       NaN            NaN           NaN            NaN   \n",
       "2011-12-31       NaN            NaN           NaN            NaN   \n",
       "...              ...            ...           ...            ...   \n",
       "2022-05-31  0.004084       0.014981     -2.033076       0.108451   \n",
       "2022-06-30  0.004204       0.011314     -2.009264       0.106422   \n",
       "2022-07-31  0.004532       0.001035     -2.399443       0.118317   \n",
       "2022-08-31  0.004210      -0.001067     -1.796845       0.128498   \n",
       "2022-09-30  0.003941      -0.045773     -0.356888       0.086782   \n",
       "\n",
       "            EFA US Equity  EUO US Equity  IWM US Equity  \n",
       "2011-08-31            NaN            NaN            NaN  \n",
       "2011-09-30            NaN            NaN            NaN  \n",
       "2011-10-31            NaN            NaN            NaN  \n",
       "2011-11-30            NaN            NaN            NaN  \n",
       "2011-12-31            NaN            NaN            NaN  \n",
       "...                   ...            ...            ...  \n",
       "2022-05-31       0.115181       0.033973       0.175357  \n",
       "2022-06-30       0.111324       0.028605       0.181174  \n",
       "2022-07-31       0.107350       0.020165       0.176503  \n",
       "2022-08-31       0.076688       0.018624       0.189947  \n",
       "2022-09-30       0.090389       0.005495       0.224953  \n",
       "\n",
       "[134 rows x 7 columns]"
      ]
     },
     "execution_count": 328,
     "metadata": {},
     "output_type": "execute_result"
    }
   ],
   "source": [
    "from statsmodels.regression.rolling import RollingOLS\n",
    "y = fund_ret[[\"HFRIFWI Index\"]]\n",
    "X = sm.add_constant(factor_ret)\n",
    "model = RollingOLS(y, X, window=60)\n",
    "rolling_betas = model.fit().params.copy()\n",
    "rolling_betas"
   ]
  },
  {
   "cell_type": "code",
   "execution_count": 335,
   "metadata": {},
   "outputs": [],
   "source": [
    "# rep_IS = (rolling_betas * X).sum(axis=1, skipna=False)\n",
    "rep_OOS = (rolling_betas.shift() * X).sum(axis=1, skipna=False)"
   ]
  },
  {
   "cell_type": "code",
   "execution_count": 348,
   "metadata": {},
   "outputs": [
    {
     "data": {
      "text/html": [
       "<div>\n",
       "<style scoped>\n",
       "    .dataframe tbody tr th:only-of-type {\n",
       "        vertical-align: middle;\n",
       "    }\n",
       "\n",
       "    .dataframe tbody tr th {\n",
       "        vertical-align: top;\n",
       "    }\n",
       "\n",
       "    .dataframe thead th {\n",
       "        text-align: right;\n",
       "    }\n",
       "</style>\n",
       "<table border=\"1\" class=\"dataframe\">\n",
       "  <thead>\n",
       "    <tr style=\"text-align: right;\">\n",
       "      <th></th>\n",
       "      <th>HFRIFWI Index</th>\n",
       "      <th>Rolling-OOS-Int</th>\n",
       "    </tr>\n",
       "  </thead>\n",
       "  <tbody>\n",
       "    <tr>\n",
       "      <th>2016-08-31</th>\n",
       "      <td>0.004274</td>\n",
       "      <td>0.004966</td>\n",
       "    </tr>\n",
       "    <tr>\n",
       "      <th>2016-09-30</th>\n",
       "      <td>0.006468</td>\n",
       "      <td>0.005001</td>\n",
       "    </tr>\n",
       "    <tr>\n",
       "      <th>2016-10-31</th>\n",
       "      <td>-0.005947</td>\n",
       "      <td>-0.004449</td>\n",
       "    </tr>\n",
       "    <tr>\n",
       "      <th>2016-11-30</th>\n",
       "      <td>0.007660</td>\n",
       "      <td>0.011651</td>\n",
       "    </tr>\n",
       "    <tr>\n",
       "      <th>2016-12-31</th>\n",
       "      <td>0.010063</td>\n",
       "      <td>0.007650</td>\n",
       "    </tr>\n",
       "    <tr>\n",
       "      <th>...</th>\n",
       "      <td>...</td>\n",
       "      <td>...</td>\n",
       "    </tr>\n",
       "    <tr>\n",
       "      <th>2022-05-31</th>\n",
       "      <td>-0.005374</td>\n",
       "      <td>0.004892</td>\n",
       "    </tr>\n",
       "    <tr>\n",
       "      <th>2022-06-30</th>\n",
       "      <td>-0.028522</td>\n",
       "      <td>-0.028555</td>\n",
       "    </tr>\n",
       "    <tr>\n",
       "      <th>2022-07-31</th>\n",
       "      <td>0.012747</td>\n",
       "      <td>0.027382</td>\n",
       "    </tr>\n",
       "    <tr>\n",
       "      <th>2022-08-31</th>\n",
       "      <td>0.004520</td>\n",
       "      <td>-0.012255</td>\n",
       "    </tr>\n",
       "    <tr>\n",
       "      <th>2022-09-30</th>\n",
       "      <td>0.000000</td>\n",
       "      <td>-0.039830</td>\n",
       "    </tr>\n",
       "  </tbody>\n",
       "</table>\n",
       "<p>74 rows × 2 columns</p>\n",
       "</div>"
      ],
      "text/plain": [
       "            HFRIFWI Index  Rolling-OOS-Int\n",
       "2016-08-31       0.004274         0.004966\n",
       "2016-09-30       0.006468         0.005001\n",
       "2016-10-31      -0.005947        -0.004449\n",
       "2016-11-30       0.007660         0.011651\n",
       "2016-12-31       0.010063         0.007650\n",
       "...                   ...              ...\n",
       "2022-05-31      -0.005374         0.004892\n",
       "2022-06-30      -0.028522        -0.028555\n",
       "2022-07-31       0.012747         0.027382\n",
       "2022-08-31       0.004520        -0.012255\n",
       "2022-09-30       0.000000        -0.039830\n",
       "\n",
       "[74 rows x 2 columns]"
      ]
     },
     "execution_count": 348,
     "metadata": {},
     "output_type": "execute_result"
    }
   ],
   "source": [
    "replication = fund_ret[['HFRIFWI Index']].copy()\n",
    "# replication['Static-IS-Int'] = static_model.fittedvalues\n",
    "# replication['Rolling-IS-Int'] = rep_IS\n",
    "replication['Rolling-OOS-Int'] = rep_OOS\n",
    "\n",
    "replication = replication.iloc[60:, :].copy()\n",
    "replication"
   ]
  },
  {
   "cell_type": "code",
   "execution_count": 351,
   "metadata": {},
   "outputs": [
    {
     "data": {
      "text/html": [
       "<div>\n",
       "<style scoped>\n",
       "    .dataframe tbody tr th:only-of-type {\n",
       "        vertical-align: middle;\n",
       "    }\n",
       "\n",
       "    .dataframe tbody tr th {\n",
       "        vertical-align: top;\n",
       "    }\n",
       "\n",
       "    .dataframe thead th {\n",
       "        text-align: right;\n",
       "    }\n",
       "</style>\n",
       "<table border=\"1\" class=\"dataframe\">\n",
       "  <thead>\n",
       "    <tr style=\"text-align: right;\">\n",
       "      <th></th>\n",
       "      <th>HFRIFWI Index</th>\n",
       "      <th>Rolling-OOS-Int</th>\n",
       "    </tr>\n",
       "  </thead>\n",
       "  <tbody>\n",
       "    <tr>\n",
       "      <th>HFRIFWI Index</th>\n",
       "      <td>1.000000</td>\n",
       "      <td>0.887358</td>\n",
       "    </tr>\n",
       "    <tr>\n",
       "      <th>Rolling-OOS-Int</th>\n",
       "      <td>0.887358</td>\n",
       "      <td>1.000000</td>\n",
       "    </tr>\n",
       "  </tbody>\n",
       "</table>\n",
       "</div>"
      ],
      "text/plain": [
       "                 HFRIFWI Index  Rolling-OOS-Int\n",
       "HFRIFWI Index         1.000000         0.887358\n",
       "Rolling-OOS-Int       0.887358         1.000000"
      ]
     },
     "execution_count": 351,
     "metadata": {},
     "output_type": "execute_result"
    }
   ],
   "source": [
    "replication.corr()"
   ]
  },
  {
   "cell_type": "code",
   "execution_count": 360,
   "metadata": {},
   "outputs": [],
   "source": [
    "predict_data = rolling_estimation(fund_ret[[\"HFRIFWI Index\"]], factor_ret, 60)"
   ]
  },
  {
   "cell_type": "code",
   "execution_count": 364,
   "metadata": {},
   "outputs": [
    {
     "data": {
      "text/plain": [
       "<matplotlib.axes._subplots.AxesSubplot at 0x7f9dd063d2d0>"
      ]
     },
     "execution_count": 364,
     "metadata": {},
     "output_type": "execute_result"
    },
    {
     "data": {
      "image/png": "[encoded data removed]",
      "text/plain": [
       "<Figure size 720x432 with 1 Axes>"
      ]
     },
     "metadata": {
      "needs_background": "light"
     },
     "output_type": "display_data"
    }
   ],
   "source": [
    "replication.plot(figsize=(10, 6))"
   ]
  },
  {
   "cell_type": "markdown",
   "metadata": {},
   "source": [
    "### 8. We estimated the replications using an intercept. Try the full-sample estimation, but this time without an intercept.\n",
    "Report\n",
    "* (a) the regression beta. How does it compare to the estimated beta with an intercept, $β^{merr}$?"
   ]
  },
  {
   "cell_type": "code",
   "execution_count": 374,
   "metadata": {},
   "outputs": [
    {
     "data": {
      "text/html": [
       "<div>\n",
       "<style scoped>\n",
       "    .dataframe tbody tr th:only-of-type {\n",
       "        vertical-align: middle;\n",
       "    }\n",
       "\n",
       "    .dataframe tbody tr th {\n",
       "        vertical-align: top;\n",
       "    }\n",
       "\n",
       "    .dataframe thead th {\n",
       "        text-align: right;\n",
       "    }\n",
       "</style>\n",
       "<table border=\"1\" class=\"dataframe\">\n",
       "  <thead>\n",
       "    <tr style=\"text-align: right;\">\n",
       "      <th></th>\n",
       "      <th>alpha</th>\n",
       "      <th>SPY US Equity</th>\n",
       "      <th>USGG3M Index</th>\n",
       "      <th>EEM US Equity</th>\n",
       "      <th>EFA US Equity</th>\n",
       "      <th>EUO US Equity</th>\n",
       "      <th>IWM US Equity</th>\n",
       "      <th>R-square</th>\n",
       "      <th>err_std</th>\n",
       "    </tr>\n",
       "  </thead>\n",
       "  <tbody>\n",
       "    <tr>\n",
       "      <th>HFRIFWI Index</th>\n",
       "      <td>0.013703</td>\n",
       "      <td>0.025589</td>\n",
       "      <td>0.834569</td>\n",
       "      <td>0.074135</td>\n",
       "      <td>0.105604</td>\n",
       "      <td>0.02324</td>\n",
       "      <td>0.147375</td>\n",
       "      <td>0.821278</td>\n",
       "      <td>0.025751</td>\n",
       "    </tr>\n",
       "    <tr>\n",
       "      <th>HFRIFWI Index</th>\n",
       "      <td>NaN</td>\n",
       "      <td>0.040448</td>\n",
       "      <td>1.551706</td>\n",
       "      <td>0.073052</td>\n",
       "      <td>0.10076</td>\n",
       "      <td>0.024909</td>\n",
       "      <td>0.144352</td>\n",
       "      <td>0.818849</td>\n",
       "      <td>0.025826</td>\n",
       "    </tr>\n",
       "  </tbody>\n",
       "</table>\n",
       "</div>"
      ],
      "text/plain": [
       "                  alpha SPY US Equity USGG3M Index EEM US Equity  \\\n",
       "HFRIFWI Index  0.013703      0.025589     0.834569      0.074135   \n",
       "HFRIFWI Index       NaN      0.040448     1.551706      0.073052   \n",
       "\n",
       "              EFA US Equity EUO US Equity IWM US Equity  R-square   err_std  \n",
       "HFRIFWI Index      0.105604       0.02324      0.147375  0.821278  0.025751  \n",
       "HFRIFWI Index       0.10076      0.024909      0.144352  0.818849  0.025826  "
      ]
     },
     "execution_count": 374,
     "metadata": {},
     "output_type": "execute_result"
    }
   ],
   "source": [
    "reg1 = reg_factor(fund_ret[[\"HFRIFWI Index\"]], factor_ret, annual_factor=12, err_std=True, intercept=True)\n",
    "reg2 = reg_factor(fund_ret[[\"HFRIFWI Index\"]], factor_ret,\n",
    "                  annual_factor=12, err_std=True, intercept=False)\n",
    "pd.concat([reg1, reg2])"
   ]
  },
  {
   "cell_type": "code",
   "execution_count": 375,
   "metadata": {},
   "outputs": [
    {
     "data": {
      "text/html": [
       "<div>\n",
       "<style scoped>\n",
       "    .dataframe tbody tr th:only-of-type {\n",
       "        vertical-align: middle;\n",
       "    }\n",
       "\n",
       "    .dataframe tbody tr th {\n",
       "        vertical-align: top;\n",
       "    }\n",
       "\n",
       "    .dataframe thead th {\n",
       "        text-align: right;\n",
       "    }\n",
       "</style>\n",
       "<table border=\"1\" class=\"dataframe\">\n",
       "  <thead>\n",
       "    <tr style=\"text-align: right;\">\n",
       "      <th></th>\n",
       "      <th>SPY US Equity</th>\n",
       "      <th>USGG3M Index</th>\n",
       "      <th>EEM US Equity</th>\n",
       "      <th>EFA US Equity</th>\n",
       "      <th>EUO US Equity</th>\n",
       "      <th>IWM US Equity</th>\n",
       "    </tr>\n",
       "  </thead>\n",
       "  <tbody>\n",
       "    <tr>\n",
       "      <th>SPY US Equity</th>\n",
       "      <td>1.000000</td>\n",
       "      <td>-0.128683</td>\n",
       "      <td>0.713358</td>\n",
       "      <td>0.873019</td>\n",
       "      <td>-0.356072</td>\n",
       "      <td>0.886302</td>\n",
       "    </tr>\n",
       "    <tr>\n",
       "      <th>USGG3M Index</th>\n",
       "      <td>-0.128683</td>\n",
       "      <td>1.000000</td>\n",
       "      <td>-0.082170</td>\n",
       "      <td>-0.126771</td>\n",
       "      <td>0.090467</td>\n",
       "      <td>-0.112243</td>\n",
       "    </tr>\n",
       "    <tr>\n",
       "      <th>EEM US Equity</th>\n",
       "      <td>0.713358</td>\n",
       "      <td>-0.082170</td>\n",
       "      <td>1.000000</td>\n",
       "      <td>0.834555</td>\n",
       "      <td>-0.581697</td>\n",
       "      <td>0.690940</td>\n",
       "    </tr>\n",
       "    <tr>\n",
       "      <th>EFA US Equity</th>\n",
       "      <td>0.873019</td>\n",
       "      <td>-0.126771</td>\n",
       "      <td>0.834555</td>\n",
       "      <td>1.000000</td>\n",
       "      <td>-0.532382</td>\n",
       "      <td>0.804649</td>\n",
       "    </tr>\n",
       "    <tr>\n",
       "      <th>EUO US Equity</th>\n",
       "      <td>-0.356072</td>\n",
       "      <td>0.090467</td>\n",
       "      <td>-0.581697</td>\n",
       "      <td>-0.532382</td>\n",
       "      <td>1.000000</td>\n",
       "      <td>-0.294335</td>\n",
       "    </tr>\n",
       "    <tr>\n",
       "      <th>IWM US Equity</th>\n",
       "      <td>0.886302</td>\n",
       "      <td>-0.112243</td>\n",
       "      <td>0.690940</td>\n",
       "      <td>0.804649</td>\n",
       "      <td>-0.294335</td>\n",
       "      <td>1.000000</td>\n",
       "    </tr>\n",
       "  </tbody>\n",
       "</table>\n",
       "</div>"
      ],
      "text/plain": [
       "               SPY US Equity  USGG3M Index  EEM US Equity  EFA US Equity  \\\n",
       "SPY US Equity       1.000000     -0.128683       0.713358       0.873019   \n",
       "USGG3M Index       -0.128683      1.000000      -0.082170      -0.126771   \n",
       "EEM US Equity       0.713358     -0.082170       1.000000       0.834555   \n",
       "EFA US Equity       0.873019     -0.126771       0.834555       1.000000   \n",
       "EUO US Equity      -0.356072      0.090467      -0.581697      -0.532382   \n",
       "IWM US Equity       0.886302     -0.112243       0.690940       0.804649   \n",
       "\n",
       "               EUO US Equity  IWM US Equity  \n",
       "SPY US Equity      -0.356072       0.886302  \n",
       "USGG3M Index        0.090467      -0.112243  \n",
       "EEM US Equity      -0.581697       0.690940  \n",
       "EFA US Equity      -0.532382       0.804649  \n",
       "EUO US Equity       1.000000      -0.294335  \n",
       "IWM US Equity      -0.294335       1.000000  "
      ]
     },
     "execution_count": 375,
     "metadata": {},
     "output_type": "execute_result"
    }
   ],
   "source": [
    "data = factor_ret.corr()"
   ]
  },
  {
   "cell_type": "markdown",
   "metadata": {},
   "source": [
    "* (b) the mean of the fitted value, $r_t^{hfri}$ . How does it compare to the mean of the HFRI?\n",
    "    - lower than the mean of the HFRI real, also lower than the prediction with an intercept"
   ]
  },
  {
   "cell_type": "code",
   "execution_count": 319,
   "metadata": {},
   "outputs": [
    {
     "data": {
      "text/plain": [
       "HFRIFWI Index            0.004581\n",
       "HFRIFWI Index_predict    0.002979\n",
       "dtype: float64"
      ]
     },
     "execution_count": 319,
     "metadata": {},
     "output_type": "execute_result"
    }
   ],
   "source": [
    "predict_data.mean()"
   ]
  },
  {
   "cell_type": "code",
   "execution_count": 318,
   "metadata": {},
   "outputs": [
    {
     "data": {
      "text/plain": [
       "HFRIFWI Index            0.004581\n",
       "HFRIFWI Index_predict    0.002795\n",
       "dtype: float64"
      ]
     },
     "execution_count": 318,
     "metadata": {},
     "output_type": "execute_result"
    }
   ],
   "source": [
    "predict_data_no_alpha = rolling_estimation(fund_ret[[\"HFRIFWI Index\"]], factor_ret, 60, intercept=False)\n",
    "predict_data_no_alpha.mean()"
   ]
  },
  {
   "cell_type": "code",
   "execution_count": 313,
   "metadata": {},
   "outputs": [
    {
     "data": {
      "text/plain": [
       "<matplotlib.axes._subplots.AxesSubplot at 0x7f9db293ff50>"
      ]
     },
     "execution_count": 313,
     "metadata": {},
     "output_type": "execute_result"
    },
    {
     "data": {
      "image/png": "[encoded data removed]",
      "text/plain": [
       "<Figure size 720x576 with 1 Axes>"
      ]
     },
     "metadata": {
      "needs_background": "light"
     },
     "output_type": "display_data"
    }
   ],
   "source": [
    "predict_data_no_alpha.plot(figsize=(10, 8))"
   ]
  },
  {
   "cell_type": "markdown",
   "metadata": {},
   "source": [
    "* (c) the correlations of the fitted values, $r_t^{hfri}$ to the HFRI. How does the correlation compare to that of the fitted values with an intercept\n",
    "    - The prediction with an intercept has a higher correlation than that without an inercept"
   ]
  },
  {
   "cell_type": "code",
   "execution_count": 359,
   "metadata": {},
   "outputs": [
    {
     "data": {
      "text/html": [
       "<div>\n",
       "<style scoped>\n",
       "    .dataframe tbody tr th:only-of-type {\n",
       "        vertical-align: middle;\n",
       "    }\n",
       "\n",
       "    .dataframe tbody tr th {\n",
       "        vertical-align: top;\n",
       "    }\n",
       "\n",
       "    .dataframe thead th {\n",
       "        text-align: right;\n",
       "    }\n",
       "</style>\n",
       "<table border=\"1\" class=\"dataframe\">\n",
       "  <thead>\n",
       "    <tr style=\"text-align: right;\">\n",
       "      <th></th>\n",
       "      <th>HFRIFWI Index</th>\n",
       "      <th>HFRIFWI Index_predict</th>\n",
       "    </tr>\n",
       "  </thead>\n",
       "  <tbody>\n",
       "    <tr>\n",
       "      <th>HFRIFWI Index</th>\n",
       "      <td>1.000000</td>\n",
       "      <td>0.887358</td>\n",
       "    </tr>\n",
       "    <tr>\n",
       "      <th>HFRIFWI Index_predict</th>\n",
       "      <td>0.887358</td>\n",
       "      <td>1.000000</td>\n",
       "    </tr>\n",
       "  </tbody>\n",
       "</table>\n",
       "</div>"
      ],
      "text/plain": [
       "                       HFRIFWI Index  HFRIFWI Index_predict\n",
       "HFRIFWI Index               1.000000               0.887358\n",
       "HFRIFWI Index_predict       0.887358               1.000000"
      ]
     },
     "execution_count": 359,
     "metadata": {},
     "output_type": "execute_result"
    }
   ],
   "source": [
    "predict_data.corr()"
   ]
  },
  {
   "cell_type": "code",
   "execution_count": 315,
   "metadata": {},
   "outputs": [
    {
     "data": {
      "text/html": [
       "<div>\n",
       "<style scoped>\n",
       "    .dataframe tbody tr th:only-of-type {\n",
       "        vertical-align: middle;\n",
       "    }\n",
       "\n",
       "    .dataframe tbody tr th {\n",
       "        vertical-align: top;\n",
       "    }\n",
       "\n",
       "    .dataframe thead th {\n",
       "        text-align: right;\n",
       "    }\n",
       "</style>\n",
       "<table border=\"1\" class=\"dataframe\">\n",
       "  <thead>\n",
       "    <tr style=\"text-align: right;\">\n",
       "      <th></th>\n",
       "      <th>HFRIFWI Index</th>\n",
       "      <th>HFRIFWI Index_predict</th>\n",
       "    </tr>\n",
       "  </thead>\n",
       "  <tbody>\n",
       "    <tr>\n",
       "      <th>HFRIFWI Index</th>\n",
       "      <td>1.000000</td>\n",
       "      <td>0.879878</td>\n",
       "    </tr>\n",
       "    <tr>\n",
       "      <th>HFRIFWI Index_predict</th>\n",
       "      <td>0.879878</td>\n",
       "      <td>1.000000</td>\n",
       "    </tr>\n",
       "  </tbody>\n",
       "</table>\n",
       "</div>"
      ],
      "text/plain": [
       "                       HFRIFWI Index  HFRIFWI Index_predict\n",
       "HFRIFWI Index               1.000000               0.879878\n",
       "HFRIFWI Index_predict       0.879878               1.000000"
      ]
     },
     "execution_count": 315,
     "metadata": {},
     "output_type": "execute_result"
    }
   ],
   "source": [
    "predict_data_no_alpha.corr()"
   ]
  },
  {
   "cell_type": "markdown",
   "metadata": {},
   "source": []
  }
 ],
 "metadata": {
  "kernelspec": {
   "display_name": "Python 3.7.4 ('base')",
   "language": "python",
   "name": "python3"
  },
  "language_info": {
   "codemirror_mode": {
    "name": "ipython",
    "version": 3
   },
   "file_extension": ".py",
   "mimetype": "text/x-python",
   "name": "python",
   "nbconvert_exporter": "python",
   "pygments_lexer": "ipython3",
   "version": "3.7.4"
  },
  "orig_nbformat": 4,
  "vscode": {
   "interpreter": {
    "hash": "8aba7c7331238ad8bef3d07aa03cf759b24ea56e2341769d4c660500293a6aca"
   }
  }
 },
 "nbformat": 4,
 "nbformat_minor": 2
}
