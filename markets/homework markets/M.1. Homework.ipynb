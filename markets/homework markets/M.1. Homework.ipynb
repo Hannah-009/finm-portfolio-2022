{
 "cells": [
  {
   "cell_type": "markdown",
   "id": "f7605588",
   "metadata": {},
   "source": [
    "# M.1. Homework\n",
    "\n",
    "## Markets Foundations\n",
    "\n",
    "### UChicago Financial Mathematics\n",
    "\n",
    "#### September 2022\n",
    "\n",
    "* Mark Hendricks\n",
    "* hendricks@uchicago.edu\n",
    "\n",
    "#### This assignment is not submitted, graded, or for credit. \n",
    "Rather, it is assigned for learning purposes."
   ]
  },
  {
   "cell_type": "markdown",
   "id": "db1161b2",
   "metadata": {},
   "source": [
    "# 1. Treasury Debt Composition"
   ]
  },
  {
   "cell_type": "markdown",
   "id": "de69be79",
   "metadata": {},
   "source": [
    "## Data\n",
    "\n",
    "This assignment uses the data file `../data/treasury_quotes_2022-06-30.xlsx`."
   ]
  },
  {
   "cell_type": "markdown",
   "id": "0a79f5d5",
   "metadata": {},
   "source": [
    "## Note\n",
    "\n",
    "The `ITYPE` column identifies\n",
    "* 1: bonds\n",
    "* 2: notes\n",
    "* 4: bills\n",
    "* 11: TIPS notes\n",
    "* 12: TIPS bonds\n",
    "\n",
    "The column `TDPUBOUT` lists the dollar size of the issue (public debt outstanding.)\n",
    "\n",
    "The data source does not list the issue size for the T-bills, which is why we are not segmenting those out separately.\n",
    "\n",
    "*Tip* `.pivot_table()` may be useful.\n",
    "\n",
    "## 1.1\n",
    "Plot the total amount of outstanding debt maturing at each date\n",
    "\n",
    "## 1.2\n",
    "Plot the amount of outstanding debt maturing at each date, segmented by bonds, notes, TIPS (combined ITYPE of 11 and 12.)\n",
    "\n",
    "## 1.3\n",
    "Report the total outstanding debt (summed over all maturity dates,) segmented by bonds, notes, TIPS.\n",
    "\n",
    "## 1.4\n",
    "Make a pie chart of this total number (reported in 1.3.) "
   ]
  },
  {
   "cell_type": "markdown",
   "id": "abcdc2dd",
   "metadata": {},
   "source": [
    "# 2 Time-to-Maturity\n",
    "\n",
    "## 2.1\n",
    "\n",
    "Calculate the time-to-maturity (relative to the quote date) for each issue.\n",
    "\n",
    "Use the `TMATDT` column to get the maturity date.\n",
    "\n",
    "Report the summary statistics of these time-to-maturities. (Consider using .describe()).\n",
    "\n",
    "## 2.2\n",
    "Plot the time-to-maturity against the provided YTM, (column `TDYLD`.)"
   ]
  },
  {
   "cell_type": "markdown",
   "id": "0d792e94",
   "metadata": {},
   "source": [
    "# 3 Yields and Prices\n",
    "\n",
    "## 3.1\n",
    "\n",
    "For the Treasury bills, calculate the **discount yields**.\n",
    "\n",
    "Identify the T-bills using `ITYPE`=4 or looking for `TCOUPRT` of 0.\n",
    "\n",
    "## 3.2\n",
    "\n",
    "Write a function to calculate the yield-to-maturity for each issue. You will need to use a nonlinear solver to solve for the YTM.\n",
    "\n",
    "## 3.3\n",
    "Conceptual question, no outside data needed.\n",
    "\n",
    "Consider a Treasury with...\n",
    "* maturity 2 years\n",
    "* face value 100\n",
    "* coupon rate 4\\%, semiannual\n",
    "* current yield-to-maturity is 3\\%\n",
    "\n",
    "\n",
    "1. Calculate the price of the treasury.\n",
    "1. Suppose that both its YTM and coupon rate go up by 0.5\\%. What is the revised price of this Treasury?"
   ]
  },
  {
   "cell_type": "markdown",
   "id": "a5ba8da5",
   "metadata": {},
   "source": [
    "# 4 Short-Term Rates"
   ]
  },
  {
   "cell_type": "markdown",
   "id": "fd61d994",
   "metadata": {},
   "source": [
    "Use the data in `data/ref_rates.xlsx` to explore several key rates that are used as benchmarks for floating rates.\n",
    "* SOFR\n",
    "* Fed funds\n",
    "* 3-month T-bill yield\n",
    "\n",
    "Calculate the correlation between the three rates (filtering to the dates for which they all have reported values.)\n",
    "\n",
    "Do this correlation analysis for the data in\n",
    "* levels (as provided)\n",
    "* differences (day-over-day changes)"
   ]
  }
 ],
 "metadata": {
  "hide_input": false,
  "kernelspec": {
   "display_name": "Python 3 (ipykernel)",
   "language": "python",
   "name": "python3"
  },
  "language_info": {
   "codemirror_mode": {
    "name": "ipython",
    "version": 3
   },
   "file_extension": ".py",
   "mimetype": "text/x-python",
   "name": "python",
   "nbconvert_exporter": "python",
   "pygments_lexer": "ipython3",
   "version": "3.9.7"
  }
 },
 "nbformat": 4,
 "nbformat_minor": 5
}
